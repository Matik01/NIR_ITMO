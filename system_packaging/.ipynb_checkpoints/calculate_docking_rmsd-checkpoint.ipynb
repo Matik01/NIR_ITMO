{
 "cells": [
  {
   "cell_type": "code",
   "execution_count": 72,
   "id": "d7492b65-678f-4fb6-95ca-2143a2c05e7f",
   "metadata": {},
   "outputs": [],
   "source": [
    "import os\n",
    "from rdkit import Chem\n",
    "from rdkit.Chem import rdMolAlign\n",
    "import pandas as pd\n",
    "import re\n",
    "import glob\n",
    "from rdkit.Chem import AllChem\n",
    "from rdkit.Chem import rdFMCS"
   ]
  },
  {
   "cell_type": "code",
   "execution_count": 73,
   "id": "bdba9af2-2cb2-42bf-af1c-d92839b33a52",
   "metadata": {},
   "outputs": [],
   "source": [
    "rootdir = './workspace'\n",
    "directories = []\n",
    "for dir, subdir, file in os.walk(rootdir):\n",
    "    if len(dir.split(sep='/')) == 4:\n",
    "        directories.append(dir)"
   ]
  },
  {
   "cell_type": "code",
   "execution_count": 74,
   "id": "489f5bef-ed83-4abd-9388-a6da1bf91d49",
   "metadata": {},
   "outputs": [],
   "source": [
    "id_best_rmsd = dict()\n",
    "ref_ligand = glob.glob(\"./data/ligand_*.pdb\")\n",
    "ref_mol = Chem.MolFromPDBFile(ref_ligand[0])\n",
    "ref_smarts = Chem.MolToSmarts(ref_mol)"
   ]
  },
  {
   "cell_type": "code",
   "execution_count": 75,
   "id": "daf6ae69-e36a-4487-b80e-bb7aed63efa8",
   "metadata": {
    "scrolled": true
   },
   "outputs": [],
   "source": [
    "# for dir in directories:\n",
    "#     exp_id = dir.split(sep='/')[2].split(sep=\"@\")[0]\n",
    "#     pdb_files = []\n",
    "#     for dir_exp, subdir, files in os.walk(dir):\n",
    "#         pdb_files.extend([file for file in files if \"pml.pdb\" in file])\n",
    "#     for conf_pdb in pdb_files:\n",
    "#         mols = []\n",
    "#         mol = Chem.MolFromPDBFile(f'{dir}/{conf_pdb}', removeHs=True)\n",
    "#         mols.append(ref_mol)\n",
    "#         mols.append(mol)\n",
    "#         mcs = rdFMCS.FindMCS(mols)\n",
    "#         pattern = Chem.MolFromSmarts(mcs.smartsString)\n",
    "#         ref = mols[0]\n",
    "#         refMatch = ref.GetSubstructMatch(pattern)\n",
    "#         molMatch = mol.GetSubstructMatch(pattern)\n",
    "#         rms = Chem.rdMolAlign.AlignMol(mol, ref_mol, atomMap=list(zip(molMatch, refMatch)))\n",
    "#         print(rms)\n",
    "#         break"
   ]
  },
  {
   "cell_type": "code",
   "execution_count": 91,
   "id": "e0cbac39-b670-4444-b17d-3fa471e09dc8",
   "metadata": {},
   "outputs": [],
   "source": [
    "for dir in directories:\n",
    "    exp_id = dir.split(sep='/')[2].split(sep=\"@\")[0]\n",
    "    id_best_rmsd[exp_id] = [1, 9999] #pose/rms values\n",
    "    pdb_files = []\n",
    "    for dir_exp, subdir, files in os.walk(dir):\n",
    "        pdb_files.extend([file for file in files if \"pml.pdb\" in file])\n",
    "    for conf_pdb in pdb_files:\n",
    "        mols = []\n",
    "        mol = Chem.MolFromPDBFile(f'{dir}/{conf_pdb}', removeHs=True)\n",
    "        mols.append(ref_mol)\n",
    "        mols.append(mol)\n",
    "        mcs = rdFMCS.FindMCS(mols)\n",
    "        pattern = Chem.MolFromSmarts(mcs.smartsString)\n",
    "        ref = mols[0]\n",
    "        refMatch = ref.GetSubstructMatch(pattern)\n",
    "        molMatch = mol.GetSubstructMatch(pattern)\n",
    "        rms = Chem.rdMolAlign.CalcRMS(mol, ref_mol, map=[list(zip(molMatch, refMatch))])\n",
    "        if rms < id_best_rmsd.get(exp_id)[1]:\n",
    "            id_best_rmsd[exp_id] = [conf_pdb.split(sep='.')[1], rms]\n",
    "        \n",
    "    "
   ]
  },
  {
   "cell_type": "code",
   "execution_count": null,
   "id": "6670d917-96e5-4c5f-a096-2873c0b15f1a",
   "metadata": {},
   "outputs": [],
   "source": []
  }
 ],
 "metadata": {
  "kernelspec": {
   "display_name": "ML",
   "language": "python",
   "name": "ml"
  },
  "language_info": {
   "codemirror_mode": {
    "name": "ipython",
    "version": 3
   },
   "file_extension": ".py",
   "mimetype": "text/x-python",
   "name": "python",
   "nbconvert_exporter": "python",
   "pygments_lexer": "ipython3",
   "version": "3.10.15"
  }
 },
 "nbformat": 4,
 "nbformat_minor": 5
}
