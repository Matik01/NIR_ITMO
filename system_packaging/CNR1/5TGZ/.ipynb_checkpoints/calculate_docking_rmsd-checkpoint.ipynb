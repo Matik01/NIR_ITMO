{
 "cells": [
  {
   "cell_type": "code",
   "execution_count": 9,
   "id": "d7492b65-678f-4fb6-95ca-2143a2c05e7f",
   "metadata": {},
   "outputs": [],
   "source": [
    "import os\n",
    "from rdkit import Chem\n",
    "from rdkit.Chem import rdMolAlign\n",
    "import pandas as pd\n",
    "import re\n",
    "import glob\n",
    "from rdkit.Chem import AllChem\n",
    "from rdkit.Chem import rdFMCS\n",
    "import argparse"
   ]
  },
  {
   "cell_type": "code",
   "execution_count": 10,
   "id": "fffcfdd2-1fa7-4497-9cc9-15498408d309",
   "metadata": {},
   "outputs": [
    {
     "name": "stderr",
     "output_type": "stream",
     "text": [
      "usage: calcDockRmsd [-h] [--workspace_dir WORKSPACE_DIR]\n",
      "                    [--ref_ligand REF_LIGAND]\n",
      "calcDockRmsd: error: unrecognized arguments: -f /home/matikmate/.local/share/jupyter/runtime/kernel-d7733c56-f496-4bd3-ad1e-9e12d9963e6a.json\n"
     ]
    },
    {
     "ename": "SystemExit",
     "evalue": "2",
     "output_type": "error",
     "traceback": [
      "An exception has occurred, use %tb to see the full traceback.\n",
      "\u001b[0;31mSystemExit\u001b[0m\u001b[0;31m:\u001b[0m 2\n"
     ]
    },
    {
     "name": "stderr",
     "output_type": "stream",
     "text": [
      "/home/matikmate/miniconda3/envs/ml/lib/python3.10/site-packages/IPython/core/interactiveshell.py:3585: UserWarning: To exit: use 'exit', 'quit', or Ctrl-D.\n",
      "  warn(\"To exit: use 'exit', 'quit', or Ctrl-D.\", stacklevel=1)\n"
     ]
    }
   ],
   "source": [
    "parser = argparse.ArgumentParser(\n",
    "    prog='calcDockRmsd'\n",
    ")\n",
    "parser.add_argument('--workspace_dir')\n",
    "parser.add_argument('--ref_ligand')\n",
    "args = parser.parse_args()"
   ]
  },
  {
   "cell_type": "code",
   "execution_count": 11,
   "id": "bdba9af2-2cb2-42bf-af1c-d92839b33a52",
   "metadata": {},
   "outputs": [
    {
     "ename": "NameError",
     "evalue": "name 'args' is not defined",
     "output_type": "error",
     "traceback": [
      "\u001b[0;31m---------------------------------------------------------------------------\u001b[0m",
      "\u001b[0;31mNameError\u001b[0m                                 Traceback (most recent call last)",
      "Cell \u001b[0;32mIn[11], line 1\u001b[0m\n\u001b[0;32m----> 1\u001b[0m rootdir \u001b[38;5;241m=\u001b[39m \u001b[43margs\u001b[49m\u001b[38;5;241m.\u001b[39mworkspace_dir\n\u001b[1;32m      2\u001b[0m directories \u001b[38;5;241m=\u001b[39m []\n\u001b[1;32m      3\u001b[0m \u001b[38;5;28;01mfor\u001b[39;00m \u001b[38;5;28mdir\u001b[39m, subdir, file \u001b[38;5;129;01min\u001b[39;00m os\u001b[38;5;241m.\u001b[39mwalk(rootdir):\n",
      "\u001b[0;31mNameError\u001b[0m: name 'args' is not defined"
     ]
    }
   ],
   "source": [
    "rootdir = args.workspace_dir\n",
    "directories = []\n",
    "for dir, subdir, file in os.walk(rootdir):\n",
    "    if len(dir.split(sep='/')) == 4:\n",
    "        directories.append(dir)"
   ]
  },
  {
   "cell_type": "code",
   "execution_count": 12,
   "id": "489f5bef-ed83-4abd-9388-a6da1bf91d49",
   "metadata": {},
   "outputs": [
    {
     "ename": "NameError",
     "evalue": "name 'args' is not defined",
     "output_type": "error",
     "traceback": [
      "\u001b[0;31m---------------------------------------------------------------------------\u001b[0m",
      "\u001b[0;31mNameError\u001b[0m                                 Traceback (most recent call last)",
      "Cell \u001b[0;32mIn[12], line 3\u001b[0m\n\u001b[1;32m      1\u001b[0m id_best_rmsd \u001b[38;5;241m=\u001b[39m \u001b[38;5;28mdict\u001b[39m()\n\u001b[1;32m      2\u001b[0m \u001b[38;5;66;03m# ref_ligand = glob.glob(\"./data/ligand_*.pdb\")\u001b[39;00m\n\u001b[0;32m----> 3\u001b[0m ref_ligand \u001b[38;5;241m=\u001b[39m glob\u001b[38;5;241m.\u001b[39mglob(\u001b[43margs\u001b[49m\u001b[38;5;241m.\u001b[39mref_ligand)\n\u001b[1;32m      4\u001b[0m ref_mol \u001b[38;5;241m=\u001b[39m Chem\u001b[38;5;241m.\u001b[39mMolFromPDBFile(ref_ligand[\u001b[38;5;241m0\u001b[39m])\n\u001b[1;32m      5\u001b[0m ref_smarts \u001b[38;5;241m=\u001b[39m Chem\u001b[38;5;241m.\u001b[39mMolToSmarts(ref_mol)\n",
      "\u001b[0;31mNameError\u001b[0m: name 'args' is not defined"
     ]
    }
   ],
   "source": [
    "id_best_rmsd = dict()\n",
    "# ref_ligand = glob.glob(\"./data/ligand_*.pdb\")\n",
    "ref_ligand = glob.glob(args.ref_ligand)\n",
    "ref_mol = Chem.MolFromPDBFile(ref_ligand[0])\n",
    "ref_smarts = Chem.MolToSmarts(ref_mol)"
   ]
  },
  {
   "cell_type": "code",
   "execution_count": 5,
   "id": "e0cbac39-b670-4444-b17d-3fa471e09dc8",
   "metadata": {},
   "outputs": [],
   "source": [
    "for dir in directories:\n",
    "    exp_id = dir.split(sep='/')[2].split(sep=\"@\")[0]\n",
    "    id_best_rmsd[exp_id] = [1, 9999] #pose/rms values\n",
    "    pdb_files = []\n",
    "    for dir_exp, subdir, files in os.walk(dir):\n",
    "        pdb_files.extend([file for file in files if \"pml.pdb\" in file])\n",
    "    for conf_pdb in pdb_files:\n",
    "        mols = []\n",
    "        mol = Chem.MolFromPDBFile(f'{dir}/{conf_pdb}', removeHs=True)\n",
    "        mols.append(ref_mol)\n",
    "        mols.append(mol)\n",
    "        mcs = rdFMCS.FindMCS(mols)\n",
    "        pattern = Chem.MolFromSmarts(mcs.smartsString)\n",
    "        ref = mols[0]\n",
    "        refMatch = ref.GetSubstructMatch(pattern)\n",
    "        molMatch = mol.GetSubstructMatch(pattern)\n",
    "        rms = Chem.rdMolAlign.CalcRMS(mol, ref_mol, map=[list(zip(molMatch, refMatch))])\n",
    "        if rms < id_best_rmsd.get(exp_id)[1]:\n",
    "            id_best_rmsd[exp_id] = [conf_pdb.split(sep='.')[1], rms]\n",
    "        \n",
    "    "
   ]
  },
  {
   "cell_type": "code",
   "execution_count": null,
   "id": "1cb45248-e065-4927-9753-9de3a085584e",
   "metadata": {},
   "outputs": [],
   "source": []
  }
 ],
 "metadata": {
  "kernelspec": {
   "display_name": "ml",
   "language": "python",
   "name": "ml"
  },
  "language_info": {
   "codemirror_mode": {
    "name": "ipython",
    "version": 3
   },
   "file_extension": ".py",
   "mimetype": "text/x-python",
   "name": "python",
   "nbconvert_exporter": "python",
   "pygments_lexer": "ipython3",
   "version": "3.10.15"
  }
 },
 "nbformat": 4,
 "nbformat_minor": 5
}
