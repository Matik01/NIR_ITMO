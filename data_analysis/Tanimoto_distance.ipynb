{
 "cells": [
  {
   "cell_type": "code",
   "execution_count": 1,
   "id": "79c8cf90-bfeb-4621-a47c-687af74f1147",
   "metadata": {},
   "outputs": [],
   "source": [
    "import datamol as dm\n",
    "import matplotlib.pyplot as plt\n",
    "from matplotlib.axis import Axis \n",
    "import pandas as pd\n",
    "import numpy as np\n",
    "import os\n",
    "from rdkit import Chem\n",
    "from rdkit.Chem import AllChem\n",
    "from rdkit import DataStructs\n",
    "import random"
   ]
  },
  {
   "cell_type": "code",
   "execution_count": 34,
   "id": "080e69d0-854a-475f-bbd1-93d4bcb33f50",
   "metadata": {},
   "outputs": [],
   "source": [
    "data_cnr2 = pd.read_csv(\"chembl253_final.csv\")\n",
    "data_cnr2['id'].duplicated().sum()\n",
    "data_cnr2.drop_duplicates(inplace=True, subset='id')"
   ]
  },
  {
   "cell_type": "code",
   "execution_count": 35,
   "id": "a473399d-ecef-4e0b-9f46-d020d4e1df58",
   "metadata": {},
   "outputs": [
    {
     "data": {
      "text/html": [
       "<div>\n",
       "<style scoped>\n",
       "    .dataframe tbody tr th:only-of-type {\n",
       "        vertical-align: middle;\n",
       "    }\n",
       "\n",
       "    .dataframe tbody tr th {\n",
       "        vertical-align: top;\n",
       "    }\n",
       "\n",
       "    .dataframe thead th {\n",
       "        text-align: right;\n",
       "    }\n",
       "</style>\n",
       "<table border=\"1\" class=\"dataframe\">\n",
       "  <thead>\n",
       "    <tr style=\"text-align: right;\">\n",
       "      <th></th>\n",
       "      <th>ki</th>\n",
       "    </tr>\n",
       "  </thead>\n",
       "  <tbody>\n",
       "    <tr>\n",
       "      <th>count</th>\n",
       "      <td>4776.000000</td>\n",
       "    </tr>\n",
       "    <tr>\n",
       "      <th>mean</th>\n",
       "      <td>2127.888710</td>\n",
       "    </tr>\n",
       "    <tr>\n",
       "      <th>std</th>\n",
       "      <td>3845.052335</td>\n",
       "    </tr>\n",
       "    <tr>\n",
       "      <th>min</th>\n",
       "      <td>0.010000</td>\n",
       "    </tr>\n",
       "    <tr>\n",
       "      <th>25%</th>\n",
       "      <td>18.400000</td>\n",
       "    </tr>\n",
       "    <tr>\n",
       "      <th>50%</th>\n",
       "      <td>231.500000</td>\n",
       "    </tr>\n",
       "    <tr>\n",
       "      <th>75%</th>\n",
       "      <td>1847.750000</td>\n",
       "    </tr>\n",
       "    <tr>\n",
       "      <th>max</th>\n",
       "      <td>25000.000000</td>\n",
       "    </tr>\n",
       "  </tbody>\n",
       "</table>\n",
       "</div>"
      ],
      "text/plain": [
       "                 ki\n",
       "count   4776.000000\n",
       "mean    2127.888710\n",
       "std     3845.052335\n",
       "min        0.010000\n",
       "25%       18.400000\n",
       "50%      231.500000\n",
       "75%     1847.750000\n",
       "max    25000.000000"
      ]
     },
     "execution_count": 35,
     "metadata": {},
     "output_type": "execute_result"
    }
   ],
   "source": [
    "data_cnr2.describe()"
   ]
  },
  {
   "cell_type": "code",
   "execution_count": 36,
   "id": "57e88c0a-8b60-4c79-9396-23dac1248078",
   "metadata": {},
   "outputs": [
    {
     "data": {
      "text/html": [
       "<div>\n",
       "<style scoped>\n",
       "    .dataframe tbody tr th:only-of-type {\n",
       "        vertical-align: middle;\n",
       "    }\n",
       "\n",
       "    .dataframe tbody tr th {\n",
       "        vertical-align: top;\n",
       "    }\n",
       "\n",
       "    .dataframe thead th {\n",
       "        text-align: right;\n",
       "    }\n",
       "</style>\n",
       "<table border=\"1\" class=\"dataframe\">\n",
       "  <thead>\n",
       "    <tr style=\"text-align: right;\">\n",
       "      <th></th>\n",
       "      <th>ki</th>\n",
       "      <th>id</th>\n",
       "      <th>smiles</th>\n",
       "    </tr>\n",
       "  </thead>\n",
       "  <tbody>\n",
       "    <tr>\n",
       "      <th>0</th>\n",
       "      <td>630.96</td>\n",
       "      <td>CHEMBL1828806</td>\n",
       "      <td>CCCCCn1cc(C(=O)Nc2ccc3ccccc3c2)c2ccccc21</td>\n",
       "    </tr>\n",
       "    <tr>\n",
       "      <th>1</th>\n",
       "      <td>1000.00</td>\n",
       "      <td>CHEMBL157591</td>\n",
       "      <td>C/N=C(\\NS(=O)(=O)c1cccc(C(F)(F)F)c1)N1CC(c2ccc...</td>\n",
       "    </tr>\n",
       "    <tr>\n",
       "      <th>2</th>\n",
       "      <td>1000.00</td>\n",
       "      <td>CHEMBL583855</td>\n",
       "      <td>CCc1c(C(=O)NN2CCCCC2)nc(-c2ccccc2Cl)n1-c1ccc(C...</td>\n",
       "    </tr>\n",
       "    <tr>\n",
       "      <th>3</th>\n",
       "      <td>1578.00</td>\n",
       "      <td>CHEMBL590481</td>\n",
       "      <td>CC(C)CNC(=O)[C@@H]1CC[C@@H](c2ccc(Cl)cc2Cl)N(c...</td>\n",
       "    </tr>\n",
       "    <tr>\n",
       "      <th>4</th>\n",
       "      <td>7.80</td>\n",
       "      <td>CHEMBL2348469</td>\n",
       "      <td>CC1(C)Oc2cc(C34CC5CC(CC(C5)C3)C4)cc(O)c2[C@@H]...</td>\n",
       "    </tr>\n",
       "    <tr>\n",
       "      <th>...</th>\n",
       "      <td>...</td>\n",
       "      <td>...</td>\n",
       "      <td>...</td>\n",
       "    </tr>\n",
       "    <tr>\n",
       "      <th>5389</th>\n",
       "      <td>1000.00</td>\n",
       "      <td>CHEMBL5085413</td>\n",
       "      <td>CCN(CC)S(=O)(=O)/N=C(/N=C(\\N)C(C)(C)C)N1CC(c2c...</td>\n",
       "    </tr>\n",
       "    <tr>\n",
       "      <th>5390</th>\n",
       "      <td>1000.00</td>\n",
       "      <td>CHEMBL5081512</td>\n",
       "      <td>C/C(N)=N\\C(=N\\S(=O)(=O)N1CCCCC1)N1C[C@@H](c2cc...</td>\n",
       "    </tr>\n",
       "    <tr>\n",
       "      <th>5391</th>\n",
       "      <td>1000.00</td>\n",
       "      <td>CHEMBL5075684</td>\n",
       "      <td>CCN(CC)S(=O)(=O)/N=C(/N=C(\\N)c1ccc(F)cc1)N1CC(...</td>\n",
       "    </tr>\n",
       "    <tr>\n",
       "      <th>5392</th>\n",
       "      <td>1000.00</td>\n",
       "      <td>CHEMBL5084642</td>\n",
       "      <td>N/C(=N\\C(=N\\S(=O)(=O)N1CCCC1)N1CC(c2ccccc2)C(c...</td>\n",
       "    </tr>\n",
       "    <tr>\n",
       "      <th>5393</th>\n",
       "      <td>9.60</td>\n",
       "      <td>CHEMBL2068805</td>\n",
       "      <td>CCCCOc1c(OC)ccc2cc(C(=O)NC3CCCCC3)c(=O)[nH]c12</td>\n",
       "    </tr>\n",
       "  </tbody>\n",
       "</table>\n",
       "<p>4776 rows × 3 columns</p>\n",
       "</div>"
      ],
      "text/plain": [
       "           ki             id  \\\n",
       "0      630.96  CHEMBL1828806   \n",
       "1     1000.00   CHEMBL157591   \n",
       "2     1000.00   CHEMBL583855   \n",
       "3     1578.00   CHEMBL590481   \n",
       "4        7.80  CHEMBL2348469   \n",
       "...       ...            ...   \n",
       "5389  1000.00  CHEMBL5085413   \n",
       "5390  1000.00  CHEMBL5081512   \n",
       "5391  1000.00  CHEMBL5075684   \n",
       "5392  1000.00  CHEMBL5084642   \n",
       "5393     9.60  CHEMBL2068805   \n",
       "\n",
       "                                                 smiles  \n",
       "0              CCCCCn1cc(C(=O)Nc2ccc3ccccc3c2)c2ccccc21  \n",
       "1     C/N=C(\\NS(=O)(=O)c1cccc(C(F)(F)F)c1)N1CC(c2ccc...  \n",
       "2     CCc1c(C(=O)NN2CCCCC2)nc(-c2ccccc2Cl)n1-c1ccc(C...  \n",
       "3     CC(C)CNC(=O)[C@@H]1CC[C@@H](c2ccc(Cl)cc2Cl)N(c...  \n",
       "4     CC1(C)Oc2cc(C34CC5CC(CC(C5)C3)C4)cc(O)c2[C@@H]...  \n",
       "...                                                 ...  \n",
       "5389  CCN(CC)S(=O)(=O)/N=C(/N=C(\\N)C(C)(C)C)N1CC(c2c...  \n",
       "5390  C/C(N)=N\\C(=N\\S(=O)(=O)N1CCCCC1)N1C[C@@H](c2cc...  \n",
       "5391  CCN(CC)S(=O)(=O)/N=C(/N=C(\\N)c1ccc(F)cc1)N1CC(...  \n",
       "5392  N/C(=N\\C(=N\\S(=O)(=O)N1CCCC1)N1CC(c2ccccc2)C(c...  \n",
       "5393     CCCCOc1c(OC)ccc2cc(C(=O)NC3CCCCC3)c(=O)[nH]c12  \n",
       "\n",
       "[4776 rows x 3 columns]"
      ]
     },
     "execution_count": 36,
     "metadata": {},
     "output_type": "execute_result"
    }
   ],
   "source": [
    "data_cnr2"
   ]
  },
  {
   "cell_type": "code",
   "execution_count": 37,
   "id": "33ef92dd-2dd2-4c6a-9bc9-3edd2318a562",
   "metadata": {},
   "outputs": [],
   "source": [
    "min_ki_idx = data_cnr2['ki'].idxmin()\n",
    "max_ki_idx = data_cnr2['ki'].idxmax()\n",
    "min_max_idx = [min_ki_idx, max_ki_idx]\n",
    "remaining_idx = data_cnr2.index.difference(min_max_idx)\n",
    "random.seed(42)\n",
    "random_rows=random.sample(range(1, 4776), 498) \n",
    "rows = list(min_max_idx) + list(random_rows)"
   ]
  },
  {
   "cell_type": "code",
   "execution_count": 38,
   "id": "2c0e12f4-1389-4667-9549-5d320a245406",
   "metadata": {},
   "outputs": [],
   "source": [
    "rows_set = {*rows}"
   ]
  },
  {
   "cell_type": "code",
   "execution_count": 39,
   "id": "93fa2c7e-1585-47ad-8bb6-14fb0582f8d9",
   "metadata": {},
   "outputs": [
    {
     "data": {
      "text/plain": [
       "500"
      ]
     },
     "execution_count": 39,
     "metadata": {},
     "output_type": "execute_result"
    }
   ],
   "source": [
    "len(rows_set)"
   ]
  },
  {
   "cell_type": "code",
   "execution_count": 40,
   "id": "23893654-a645-402a-8b4a-756c739d545c",
   "metadata": {},
   "outputs": [],
   "source": [
    "data_cnr2 = data_cnr2.iloc[rows]"
   ]
  },
  {
   "cell_type": "code",
   "execution_count": 41,
   "id": "ac4633b0-b511-4210-862d-47a3a16f2fd7",
   "metadata": {},
   "outputs": [
    {
     "data": {
      "text/plain": [
       "count      500.000000\n",
       "mean      2177.574818\n",
       "std       4040.322278\n",
       "min          0.020000\n",
       "25%         16.000000\n",
       "50%        214.500000\n",
       "75%       1752.500000\n",
       "max      25000.000000\n",
       "Name: ki, dtype: float64"
      ]
     },
     "execution_count": 41,
     "metadata": {},
     "output_type": "execute_result"
    }
   ],
   "source": [
    "data_cnr2['ki'].describe()"
   ]
  },
  {
   "cell_type": "code",
   "execution_count": 42,
   "id": "72dffa9c-30b9-4515-8f80-51194398c8fe",
   "metadata": {},
   "outputs": [
    {
     "data": {
      "text/plain": [
       "<Axes: ylabel='Density'>"
      ]
     },
     "execution_count": 42,
     "metadata": {},
     "output_type": "execute_result"
    },
    {
     "data": {
      "image/png": "[encoded data removed]",
      "text/plain": [
       "<Figure size 640x480 with 1 Axes>"
      ]
     },
     "metadata": {},
     "output_type": "display_data"
    }
   ],
   "source": [
    "data_cnr2['ki'].plot.density()"
   ]
  },
  {
   "cell_type": "code",
   "execution_count": 6,
   "id": "c2faed8d-c7a8-4526-acdf-bcd365ee942b",
   "metadata": {},
   "outputs": [],
   "source": [
    "# mols_cnr2 = data_cnr2['smiles'].tolist()\n",
    "reference_mols_cnr2 = ['CC1=C(N(N=C1C(=O)NC23CC4CC(C2)CC(C4)C3)CCCCCO)C5=CC=CC=C5', \n",
    "                       'CC1([C@@H]2CC[C@H](C[C@H]2C3=C(C=C(C=C3O1)C(C)(C)CCCCCC#N)O)CO)C', \n",
    "                       'CC1=C(C2=C3N1[C@@H](COC3=CC=C2)CN4CCOCC4)C(=O)C5=CC=CC6=CC=CC=C65', \n",
    "                       'CCCCCCC(C)(C)C1=CC(=C(C(=C1)OC)[C@H]2C=C([C@H]3C[C@@H]2C3(C)C)CO)OC', \n",
    "                       'CCCCCCC(C)(C)C1=CC(=C(C=C1)[C@@H]2C[C@@H](CC[C@H]2CCCO)O)O', \n",
    "                       'CC(C)CN1C(=O)CN(C1=O)CC2=CC=C(C=C2)C3=NC(=C(C=C3)F)CNC4CCOCC4', \n",
    "                       'CC(C)(C)[C@@H](CO)NC(=O)C1=NN(C2=C1C[C@H]3[C@@H]2C3)C4=NC=C[N+](=C4)[O-]']\n",
    "reference_receptors_cnr2 = ['5ZTY', '6KPF', '6PT0', '8GUS', '8GUR', '8GUT', '8GUQ']"
   ]
  },
  {
   "cell_type": "code",
   "execution_count": 7,
   "id": "dcdbe81b-a1a7-40a0-bec9-942c225566c7",
   "metadata": {},
   "outputs": [],
   "source": [
    "def calculate_tanimoto_similarity(input_smiles, reference_mols_list, reference_receptors_list):\n",
    "    tanimoto_distance = dm.similarity.cdist(input_smiles, reference_mols_list, distances_chunk=False)\n",
    "    tanimoto_similarity = 1 - tanimoto_distance\n",
    "    calculated_df = pd.DataFrame(data=tanimoto_similarity, columns=reference_receptors_list)\n",
    "    return calculated_df"
   ]
  },
  {
   "cell_type": "code",
   "execution_count": 45,
   "id": "7271d323-da73-4581-a189-ff961921fa7e",
   "metadata": {},
   "outputs": [],
   "source": [
    "data = calculate_tanimoto_similarity(data_cnr2['smiles'].tolist(), reference_mols_cnr2, reference_receptors_cnr2)"
   ]
  },
  {
   "cell_type": "code",
   "execution_count": 46,
   "id": "95f74b76-52fc-439c-9c65-5fc22b4883c3",
   "metadata": {},
   "outputs": [
    {
     "data": {
      "text/html": [
       "<div>\n",
       "<style scoped>\n",
       "    .dataframe tbody tr th:only-of-type {\n",
       "        vertical-align: middle;\n",
       "    }\n",
       "\n",
       "    .dataframe tbody tr th {\n",
       "        vertical-align: top;\n",
       "    }\n",
       "\n",
       "    .dataframe thead th {\n",
       "        text-align: right;\n",
       "    }\n",
       "</style>\n",
       "<table border=\"1\" class=\"dataframe\">\n",
       "  <thead>\n",
       "    <tr style=\"text-align: right;\">\n",
       "      <th></th>\n",
       "      <th>5ZTY</th>\n",
       "      <th>6KPF</th>\n",
       "      <th>6PT0</th>\n",
       "      <th>8GUS</th>\n",
       "      <th>8GUR</th>\n",
       "      <th>8GUT</th>\n",
       "      <th>8GUQ</th>\n",
       "    </tr>\n",
       "  </thead>\n",
       "  <tbody>\n",
       "    <tr>\n",
       "      <th>count</th>\n",
       "      <td>500.000000</td>\n",
       "      <td>500.000000</td>\n",
       "      <td>500.000000</td>\n",
       "      <td>500.000000</td>\n",
       "      <td>500.000000</td>\n",
       "      <td>500.000000</td>\n",
       "      <td>500.000000</td>\n",
       "    </tr>\n",
       "    <tr>\n",
       "      <th>mean</th>\n",
       "      <td>0.122802</td>\n",
       "      <td>0.094447</td>\n",
       "      <td>0.107957</td>\n",
       "      <td>0.097702</td>\n",
       "      <td>0.108290</td>\n",
       "      <td>0.095454</td>\n",
       "      <td>0.088607</td>\n",
       "    </tr>\n",
       "    <tr>\n",
       "      <th>std</th>\n",
       "      <td>0.050823</td>\n",
       "      <td>0.064093</td>\n",
       "      <td>0.046974</td>\n",
       "      <td>0.067285</td>\n",
       "      <td>0.064657</td>\n",
       "      <td>0.025625</td>\n",
       "      <td>0.021672</td>\n",
       "    </tr>\n",
       "    <tr>\n",
       "      <th>min</th>\n",
       "      <td>0.052632</td>\n",
       "      <td>0.023438</td>\n",
       "      <td>0.036232</td>\n",
       "      <td>0.025210</td>\n",
       "      <td>0.035398</td>\n",
       "      <td>0.037037</td>\n",
       "      <td>0.036496</td>\n",
       "    </tr>\n",
       "    <tr>\n",
       "      <th>25%</th>\n",
       "      <td>0.092308</td>\n",
       "      <td>0.061162</td>\n",
       "      <td>0.079137</td>\n",
       "      <td>0.061896</td>\n",
       "      <td>0.075000</td>\n",
       "      <td>0.076923</td>\n",
       "      <td>0.074012</td>\n",
       "    </tr>\n",
       "    <tr>\n",
       "      <th>50%</th>\n",
       "      <td>0.111111</td>\n",
       "      <td>0.074728</td>\n",
       "      <td>0.094891</td>\n",
       "      <td>0.084040</td>\n",
       "      <td>0.095652</td>\n",
       "      <td>0.092199</td>\n",
       "      <td>0.088573</td>\n",
       "    </tr>\n",
       "    <tr>\n",
       "      <th>75%</th>\n",
       "      <td>0.133929</td>\n",
       "      <td>0.095813</td>\n",
       "      <td>0.120467</td>\n",
       "      <td>0.113937</td>\n",
       "      <td>0.125263</td>\n",
       "      <td>0.110251</td>\n",
       "      <td>0.101562</td>\n",
       "    </tr>\n",
       "    <tr>\n",
       "      <th>max</th>\n",
       "      <td>0.388350</td>\n",
       "      <td>0.530612</td>\n",
       "      <td>0.366667</td>\n",
       "      <td>1.000000</td>\n",
       "      <td>1.000000</td>\n",
       "      <td>0.181159</td>\n",
       "      <td>0.177966</td>\n",
       "    </tr>\n",
       "  </tbody>\n",
       "</table>\n",
       "</div>"
      ],
      "text/plain": [
       "             5ZTY        6KPF        6PT0        8GUS        8GUR        8GUT  \\\n",
       "count  500.000000  500.000000  500.000000  500.000000  500.000000  500.000000   \n",
       "mean     0.122802    0.094447    0.107957    0.097702    0.108290    0.095454   \n",
       "std      0.050823    0.064093    0.046974    0.067285    0.064657    0.025625   \n",
       "min      0.052632    0.023438    0.036232    0.025210    0.035398    0.037037   \n",
       "25%      0.092308    0.061162    0.079137    0.061896    0.075000    0.076923   \n",
       "50%      0.111111    0.074728    0.094891    0.084040    0.095652    0.092199   \n",
       "75%      0.133929    0.095813    0.120467    0.113937    0.125263    0.110251   \n",
       "max      0.388350    0.530612    0.366667    1.000000    1.000000    0.181159   \n",
       "\n",
       "             8GUQ  \n",
       "count  500.000000  \n",
       "mean     0.088607  \n",
       "std      0.021672  \n",
       "min      0.036496  \n",
       "25%      0.074012  \n",
       "50%      0.088573  \n",
       "75%      0.101562  \n",
       "max      0.177966  "
      ]
     },
     "execution_count": 46,
     "metadata": {},
     "output_type": "execute_result"
    }
   ],
   "source": [
    "data.describe()"
   ]
  },
  {
   "cell_type": "code",
   "execution_count": 47,
   "id": "bdacf8f4-f452-48e5-8784-3de975ea87ba",
   "metadata": {},
   "outputs": [],
   "source": [
    "max_tanimoto_values = data.iloc[:, 0:].max(axis=1)"
   ]
  },
  {
   "cell_type": "code",
   "execution_count": 48,
   "id": "f0bf958e-43fd-421e-9fcc-571d9abee084",
   "metadata": {},
   "outputs": [],
   "source": [
    "max_tanimoto_columns = data.iloc[:, 0:].idxmax(axis=1)"
   ]
  },
  {
   "cell_type": "code",
   "execution_count": 49,
   "id": "981f37fc-6dbb-4d5e-b8a8-d96c46548919",
   "metadata": {},
   "outputs": [
    {
     "data": {
      "text/plain": [
       "(array([  5.,  37.,  82., 117.,  52.,  45.,  36.,  25.,  12.,  20.,  20.,\n",
       "         17.,   9.,   2.,   3.,   4.,   6.,   1.,   1.,   0.,   1.,   1.,\n",
       "          0.,   1.,   1.,   0.,   0.,   0.,   0.,   0.,   0.,   0.,   0.,\n",
       "          0.,   0.,   0.,   0.,   0.,   0.,   0.,   0.,   0.,   0.,   0.,\n",
       "          0.,   0.,   0.,   0.,   0.,   2.]),\n",
       " array([0.06521739, 0.08391304, 0.1026087 , 0.12130435, 0.14      ,\n",
       "        0.15869565, 0.1773913 , 0.19608696, 0.21478261, 0.23347826,\n",
       "        0.25217391, 0.27086957, 0.28956522, 0.30826087, 0.32695652,\n",
       "        0.34565217, 0.36434783, 0.38304348, 0.40173913, 0.42043478,\n",
       "        0.43913043, 0.45782609, 0.47652174, 0.49521739, 0.51391304,\n",
       "        0.5326087 , 0.55130435, 0.57      , 0.58869565, 0.6073913 ,\n",
       "        0.62608696, 0.64478261, 0.66347826, 0.68217391, 0.70086957,\n",
       "        0.71956522, 0.73826087, 0.75695652, 0.77565217, 0.79434783,\n",
       "        0.81304348, 0.83173913, 0.85043478, 0.86913043, 0.88782609,\n",
       "        0.90652174, 0.92521739, 0.94391304, 0.9626087 , 0.98130435,\n",
       "        1.        ]),\n",
       " <BarContainer object of 50 artists>)"
      ]
     },
     "execution_count": 49,
     "metadata": {},
     "output_type": "execute_result"
    },
    {
     "data": {
      "image/png": "[encoded data removed]",
      "text/plain": [
       "<Figure size 640x480 with 1 Axes>"
      ]
     },
     "metadata": {},
     "output_type": "display_data"
    }
   ],
   "source": [
    "plt.hist(max_tanimoto_values, bins=50)"
   ]
  },
  {
   "cell_type": "code",
   "execution_count": 12,
   "id": "1f409d32-8543-479c-817b-bf2751dd33de",
   "metadata": {},
   "outputs": [],
   "source": [
    "def check_boundary(tanimoto_values: pd.Series) -> list():\n",
    "    upper_bound = list()\n",
    "    lower_bound = list()\n",
    "    for value_id in range(0, len(tanimoto_values)):\n",
    "        if tanimoto_values[value_id] >= 0.5:\n",
    "            upper_bound.append(value_id)\n",
    "        elif tanimoto_values[value_id] < 0.5:\n",
    "            lower_bound.append(value_id)\n",
    "    return [upper_bound, lower_bound]"
   ]
  },
  {
   "cell_type": "code",
   "execution_count": 51,
   "id": "4269444c-0c85-4e79-83cf-5f03dc623e31",
   "metadata": {
    "scrolled": true
   },
   "outputs": [],
   "source": [
    "boundaries = check_boundary(max_tanimoto_values)"
   ]
  },
  {
   "cell_type": "code",
   "execution_count": 52,
   "id": "08842704-b0dd-405e-8151-99085f440167",
   "metadata": {},
   "outputs": [
    {
     "data": {
      "text/html": [
       "<div>\n",
       "<style scoped>\n",
       "    .dataframe tbody tr th:only-of-type {\n",
       "        vertical-align: middle;\n",
       "    }\n",
       "\n",
       "    .dataframe tbody tr th {\n",
       "        vertical-align: top;\n",
       "    }\n",
       "\n",
       "    .dataframe thead th {\n",
       "        text-align: right;\n",
       "    }\n",
       "</style>\n",
       "<table border=\"1\" class=\"dataframe\">\n",
       "  <thead>\n",
       "    <tr style=\"text-align: right;\">\n",
       "      <th></th>\n",
       "      <th>ki</th>\n",
       "      <th>id</th>\n",
       "      <th>smiles</th>\n",
       "    </tr>\n",
       "  </thead>\n",
       "  <tbody>\n",
       "    <tr>\n",
       "      <th>831</th>\n",
       "      <td>11.2</td>\n",
       "      <td>CHEMBL2179724</td>\n",
       "      <td>CCCCCCC(C)(C)c1cc(OC)c([C@H]2C=C(CO)[C@H]3C[C@...</td>\n",
       "    </tr>\n",
       "    <tr>\n",
       "      <th>4666</th>\n",
       "      <td>3.1</td>\n",
       "      <td>CHEMBL4470925</td>\n",
       "      <td>CCCCOC(=O)C(C)(C)c1cc(O)c2c(c1)OC(C)(C)[C@@H]1...</td>\n",
       "    </tr>\n",
       "    <tr>\n",
       "      <th>2187</th>\n",
       "      <td>1.8</td>\n",
       "      <td>CHEMBL77520</td>\n",
       "      <td>CCCCCCC(C)(C)c1ccc(C2CC(O)CCC2CCCO)c(O)c1</td>\n",
       "    </tr>\n",
       "    <tr>\n",
       "      <th>2266</th>\n",
       "      <td>700.0</td>\n",
       "      <td>CHEMBL264412</td>\n",
       "      <td>CCCCC(C)(C)c1ccc([C@@H]2C[C@H](O)CC[C@H]2CCCO)cc1</td>\n",
       "    </tr>\n",
       "  </tbody>\n",
       "</table>\n",
       "</div>"
      ],
      "text/plain": [
       "         ki             id                                             smiles\n",
       "831    11.2  CHEMBL2179724  CCCCCCC(C)(C)c1cc(OC)c([C@H]2C=C(CO)[C@H]3C[C@...\n",
       "4666    3.1  CHEMBL4470925  CCCCOC(=O)C(C)(C)c1cc(O)c2c(c1)OC(C)(C)[C@@H]1...\n",
       "2187    1.8    CHEMBL77520          CCCCCCC(C)(C)c1ccc(C2CC(O)CCC2CCCO)c(O)c1\n",
       "2266  700.0   CHEMBL264412  CCCCC(C)(C)c1ccc([C@@H]2C[C@H](O)CC[C@H]2CCCO)cc1"
      ]
     },
     "execution_count": 52,
     "metadata": {},
     "output_type": "execute_result"
    }
   ],
   "source": [
    "data_cnr2.iloc[boundaries[0]]"
   ]
  },
  {
   "cell_type": "code",
   "execution_count": 53,
   "id": "6fb6c28e-f93c-4f7f-941b-fbcef1441b53",
   "metadata": {},
   "outputs": [
    {
     "data": {
      "text/plain": [
       "37     8GUS\n",
       "133    6KPF\n",
       "276    8GUR\n",
       "411    8GUR\n",
       "dtype: object"
      ]
     },
     "execution_count": 53,
     "metadata": {},
     "output_type": "execute_result"
    }
   ],
   "source": [
    "max_tanimoto_columns.iloc[boundaries[0]]"
   ]
  },
  {
   "cell_type": "code",
   "execution_count": 54,
   "id": "05505b65-28ee-422b-90da-f0fcaef2537c",
   "metadata": {},
   "outputs": [
    {
     "data": {
      "text/plain": [
       "822     CHEMBL2414029\n",
       "29      CHEMBL1269772\n",
       "954     CHEMBL3353442\n",
       "207     CHEMBL1641963\n",
       "2462     CHEMBL250609\n",
       "            ...      \n",
       "3911    CHEMBL3220955\n",
       "4088    CHEMBL2030929\n",
       "1377    CHEMBL3605033\n",
       "4354     CHEMBL591066\n",
       "4123     CHEMBL250768\n",
       "Name: id, Length: 496, dtype: object"
      ]
     },
     "execution_count": 54,
     "metadata": {},
     "output_type": "execute_result"
    }
   ],
   "source": [
    "data_cnr2['id'].iloc[boundaries[1]]"
   ]
  },
  {
   "cell_type": "code",
   "execution_count": 16,
   "id": "f19552b9-2dd9-45e3-b207-66074f17139a",
   "metadata": {},
   "outputs": [],
   "source": [
    "def sort_smiles_by_receptor(experiment_file_name: str, \n",
    "                            reference_receptors: list, \n",
    "                            id_column: pd.Series,\n",
    "                            boundary_values: list,\n",
    "                            smiles_data: pd.Series, \n",
    "                            tanimoto_receptors: pd.Series,\n",
    "                            high_resolution_receptor_id: str):\n",
    "    chembl_file = f'{experiment_file_name}.smi'\n",
    "    for i in reference_receptors:\n",
    "        os.makedirs(i, exist_ok=True)\n",
    "        file_path = os.path.join(i, chembl_file) \n",
    "        with open(file_path, 'w') as f:\n",
    "            f.write(\"\") \n",
    "    tanimoto_receptors_upper = max_tanimoto_columns.iloc[boundary_values[0]]\n",
    "    for chembl_id, smiles, receptor_id in zip(id_column.iloc[boundary_values[0]], smiles_data.iloc[boundary_values[0]], tanimoto_receptors_upper):\n",
    "            with open(f'{receptor_id}/{chembl_file}', \"a\") as f_out:\n",
    "                f_out.write(f'{smiles}\\t{chembl_id}\\t{receptor_id}\\n')\n",
    "                \n",
    "    tanimoto_receptors_lower = max_tanimoto_columns.iloc[boundary_values[1]]\n",
    "    for chembl_id, smiles, receptor_id in zip(id_column.iloc[boundary_values[1]], smiles_data.iloc[boundary_values[1]], tanimoto_receptors_lower):\n",
    "            with open(f'{high_resolution_receptor_id}/{chembl_file}', \"a\") as f_out:\n",
    "                f_out.write(f'{smiles}\\t{chembl_id}\\t{receptor_id}\\n')"
   ]
  },
  {
   "cell_type": "code",
   "execution_count": 249,
   "id": "20fb590b-3288-41f8-87d2-2f8e70938008",
   "metadata": {},
   "outputs": [],
   "source": [
    "sort_smiles_by_receptor(\"experiment\", reference_receptors_cnr2, \n",
    "                        data_cnr2['id'], boundaries, \n",
    "                        data_cnr2['smiles'], max_tanimoto_columns, \"5ZTY\")"
   ]
  },
  {
   "cell_type": "code",
   "execution_count": 176,
   "id": "bdd6cf68-1790-410e-a4fe-68180b592d9b",
   "metadata": {},
   "outputs": [
    {
     "data": {
      "text/plain": [
       "Series([], dtype: object)"
      ]
     },
     "execution_count": 176,
     "metadata": {},
     "output_type": "execute_result"
    }
   ],
   "source": [
    "tanimoto_recep"
   ]
  },
  {
   "cell_type": "code",
   "execution_count": 3,
   "id": "11a4056d-2254-4e53-82cd-abc89509e683",
   "metadata": {},
   "outputs": [],
   "source": [
    "reference_mols_cnr1 = [\n",
    "    'CC1=C(N(N=C1C(=O)NN2CCCCC2)C3=C(C=C(C=C3)Cl)Cl)C4=CC=C(C=C4)C#CCCO[N+](=O)[O-]',\n",
    "    'C[C@@H]([C@@H](CC1=CC=C(C=C1)Cl)C2=CC=CC(=C2)C#N)NC(=O)C(C)(C)OC3=NC=C(C=C3)C(F)(F)F',\n",
    "    'CC1([C@@H]2CC[C@H](C[C@H]2C3=C(C=C(C=C3O1)C(C)(C)CCCCCCN=C=S)O)CO)C',\n",
    "    'CC1=CC[C@@H]2[C@@H](C1)C3=C(C=C(C=C3OC2(C)C)C(C)(C)CCCCCCBr)O',\n",
    "    'CCC1=C(NC2=C1C=C(C=C2)Cl)C(=O)NCCC3=CC=C(C=C3)N4CCCCC4',\n",
    "    'CCCCCCC(C)(C)C1=CC(=C(C=C1)[C@@H]2C[C@@H](CC[C@H]2CCCO)O)O',\n",
    "    'CC(C)(C)[C@@H](C(=O)OC)NC(=O)C1=NN(C2=CC=CC=C21)CC3=CC=C(C=C3)F',\n",
    "    'CC1([C@@H]2CC[C@H](C[C@H]2C3=C(C=C(C=C3O1)C(C)(C)CCCCCCN=C=S)O)CO)C',\n",
    "    'CCCCC/C=C\\[C@H](C)/C=C\\C/C=C\\C/C=C\\CCCC(=O)N[C@H](C)CO'\n",
    "]\n",
    "reference_receptors_cnr1 = ['5TGZ', '5U09', '5XR8', '5XRA', '6KQI', '7FEE', '6N4B', '6KPG', '8GHV']"
   ]
  },
  {
   "cell_type": "code",
   "execution_count": 4,
   "id": "f4a4c71e-bc96-4ded-82cc-a1b88bffd6dd",
   "metadata": {},
   "outputs": [],
   "source": [
    "data_cnr1 = pd.read_csv(\"chembl218_final.csv\")"
   ]
  },
  {
   "cell_type": "code",
   "execution_count": 5,
   "id": "a4b63a42-929b-4928-8f15-fe9f393f1ef0",
   "metadata": {},
   "outputs": [
    {
     "data": {
      "text/html": [
       "<div>\n",
       "<style scoped>\n",
       "    .dataframe tbody tr th:only-of-type {\n",
       "        vertical-align: middle;\n",
       "    }\n",
       "\n",
       "    .dataframe tbody tr th {\n",
       "        vertical-align: top;\n",
       "    }\n",
       "\n",
       "    .dataframe thead th {\n",
       "        text-align: right;\n",
       "    }\n",
       "</style>\n",
       "<table border=\"1\" class=\"dataframe\">\n",
       "  <thead>\n",
       "    <tr style=\"text-align: right;\">\n",
       "      <th></th>\n",
       "      <th>ki</th>\n",
       "    </tr>\n",
       "  </thead>\n",
       "  <tbody>\n",
       "    <tr>\n",
       "      <th>count</th>\n",
       "      <td>4103.000000</td>\n",
       "    </tr>\n",
       "    <tr>\n",
       "      <th>mean</th>\n",
       "      <td>3699.047013</td>\n",
       "    </tr>\n",
       "    <tr>\n",
       "      <th>std</th>\n",
       "      <td>7428.612046</td>\n",
       "    </tr>\n",
       "    <tr>\n",
       "      <th>min</th>\n",
       "      <td>0.000350</td>\n",
       "    </tr>\n",
       "    <tr>\n",
       "      <th>25%</th>\n",
       "      <td>36.250000</td>\n",
       "    </tr>\n",
       "    <tr>\n",
       "      <th>50%</th>\n",
       "      <td>640.000000</td>\n",
       "    </tr>\n",
       "    <tr>\n",
       "      <th>75%</th>\n",
       "      <td>4761.500000</td>\n",
       "    </tr>\n",
       "    <tr>\n",
       "      <th>max</th>\n",
       "      <td>116800.000000</td>\n",
       "    </tr>\n",
       "  </tbody>\n",
       "</table>\n",
       "</div>"
      ],
      "text/plain": [
       "                  ki\n",
       "count    4103.000000\n",
       "mean     3699.047013\n",
       "std      7428.612046\n",
       "min         0.000350\n",
       "25%        36.250000\n",
       "50%       640.000000\n",
       "75%      4761.500000\n",
       "max    116800.000000"
      ]
     },
     "execution_count": 5,
     "metadata": {},
     "output_type": "execute_result"
    }
   ],
   "source": [
    "data_cnr1.describe()"
   ]
  },
  {
   "cell_type": "code",
   "execution_count": 6,
   "id": "6061a276-11b1-47db-9fea-fd22c7e8e0b4",
   "metadata": {},
   "outputs": [],
   "source": [
    "min_ki_idx = data_cnr1['ki'].idxmin()\n",
    "max_ki_idx = data_cnr1['ki'].idxmax()\n",
    "min_max_idx = [min_ki_idx, max_ki_idx]\n",
    "remaining_idx = data_cnr1.index.difference(min_max_idx)\n",
    "random.seed(42)\n",
    "random_rows=random.sample(range(1, 4103), 498) \n",
    "rows = list(min_max_idx) + list(random_rows)"
   ]
  },
  {
   "cell_type": "code",
   "execution_count": 7,
   "id": "85cea5c2-9dd8-4158-a7ca-025e647141cc",
   "metadata": {},
   "outputs": [
    {
     "data": {
      "text/plain": [
       "500"
      ]
     },
     "execution_count": 7,
     "metadata": {},
     "output_type": "execute_result"
    }
   ],
   "source": [
    "rows_set = {*rows}\n",
    "len(rows_set)"
   ]
  },
  {
   "cell_type": "code",
   "execution_count": 25,
   "id": "d6c16f6e-bb08-4072-8504-58235df26592",
   "metadata": {},
   "outputs": [],
   "source": [
    "data_cnr1 = data_cnr1.iloc[rows]"
   ]
  },
  {
   "cell_type": "code",
   "execution_count": 26,
   "id": "1b8a0349-9f47-41c6-9b2d-091c3177deae",
   "metadata": {},
   "outputs": [
    {
     "data": {
      "text/html": [
       "<div>\n",
       "<style scoped>\n",
       "    .dataframe tbody tr th:only-of-type {\n",
       "        vertical-align: middle;\n",
       "    }\n",
       "\n",
       "    .dataframe tbody tr th {\n",
       "        vertical-align: top;\n",
       "    }\n",
       "\n",
       "    .dataframe thead th {\n",
       "        text-align: right;\n",
       "    }\n",
       "</style>\n",
       "<table border=\"1\" class=\"dataframe\">\n",
       "  <thead>\n",
       "    <tr style=\"text-align: right;\">\n",
       "      <th></th>\n",
       "      <th>ki</th>\n",
       "    </tr>\n",
       "  </thead>\n",
       "  <tbody>\n",
       "    <tr>\n",
       "      <th>count</th>\n",
       "      <td>500.000000</td>\n",
       "    </tr>\n",
       "    <tr>\n",
       "      <th>mean</th>\n",
       "      <td>3627.021628</td>\n",
       "    </tr>\n",
       "    <tr>\n",
       "      <th>std</th>\n",
       "      <td>9012.851782</td>\n",
       "    </tr>\n",
       "    <tr>\n",
       "      <th>min</th>\n",
       "      <td>0.000350</td>\n",
       "    </tr>\n",
       "    <tr>\n",
       "      <th>25%</th>\n",
       "      <td>45.000000</td>\n",
       "    </tr>\n",
       "    <tr>\n",
       "      <th>50%</th>\n",
       "      <td>682.500000</td>\n",
       "    </tr>\n",
       "    <tr>\n",
       "      <th>75%</th>\n",
       "      <td>3763.000000</td>\n",
       "    </tr>\n",
       "    <tr>\n",
       "      <th>max</th>\n",
       "      <td>116800.000000</td>\n",
       "    </tr>\n",
       "  </tbody>\n",
       "</table>\n",
       "</div>"
      ],
      "text/plain": [
       "                  ki\n",
       "count     500.000000\n",
       "mean     3627.021628\n",
       "std      9012.851782\n",
       "min         0.000350\n",
       "25%        45.000000\n",
       "50%       682.500000\n",
       "75%      3763.000000\n",
       "max    116800.000000"
      ]
     },
     "execution_count": 26,
     "metadata": {},
     "output_type": "execute_result"
    }
   ],
   "source": [
    "data_cnr1.describe()"
   ]
  },
  {
   "cell_type": "code",
   "execution_count": 27,
   "id": "8d66cbdd-9ca2-4f21-97a5-ba268897b5aa",
   "metadata": {},
   "outputs": [
    {
     "data": {
      "text/plain": [
       "<Axes: ylabel='Density'>"
      ]
     },
     "execution_count": 27,
     "metadata": {},
     "output_type": "execute_result"
    },
    {
     "data": {
      "image/png": "[encoded data removed]",
      "text/plain": [
       "<Figure size 640x480 with 1 Axes>"
      ]
     },
     "metadata": {},
     "output_type": "display_data"
    }
   ],
   "source": [
    "data_cnr1['ki'].plot.density()"
   ]
  },
  {
   "cell_type": "code",
   "execution_count": 28,
   "id": "685d5564-0a82-47cb-a7ef-b68ac20dfc0a",
   "metadata": {},
   "outputs": [],
   "source": [
    "data = calculate_tanimoto_similarity(data_cnr1['smiles'].tolist(), reference_mols_cnr1, reference_receptors_cnr1)"
   ]
  },
  {
   "cell_type": "code",
   "execution_count": 29,
   "id": "19efd42a-2380-454f-90b1-98c11b49e871",
   "metadata": {},
   "outputs": [],
   "source": [
    "max_tanimoto_values = data.iloc[:, 0:].max(axis=1)\n",
    "max_tanimoto_columns = data.iloc[:, 0:].idxmax(axis=1)"
   ]
  },
  {
   "cell_type": "code",
   "execution_count": 30,
   "id": "c4c9c7a2-1e9b-4c5d-93aa-8945ce64cf1d",
   "metadata": {},
   "outputs": [
    {
     "data": {
      "text/plain": [
       "(array([17., 47., 74., 98., 74., 41., 23., 21., 14., 11., 10.,  8.,  8.,\n",
       "        10.,  4.,  7.,  1.,  4.,  3.,  5.,  2.,  2.,  2.,  3.,  1.,  1.,\n",
       "         1.,  2.,  1.,  2.,  1.,  0.,  0.,  0.,  1.,  0.,  0.,  0.,  0.,\n",
       "         0.,  0.,  0.,  0.,  0.,  0.,  0.,  0.,  0.,  0.,  1.]),\n",
       " array([0.08130081, 0.09775699, 0.11421316, 0.13066934, 0.14712552,\n",
       "        0.16358169, 0.18003787, 0.19649404, 0.21295022, 0.22940639,\n",
       "        0.24586257, 0.26231874, 0.27877492, 0.29523109, 0.31168727,\n",
       "        0.32814345, 0.34459962, 0.3610558 , 0.37751197, 0.39396815,\n",
       "        0.41042432, 0.4268805 , 0.44333667, 0.45979285, 0.47624903,\n",
       "        0.4927052 , 0.50916138, 0.52561755, 0.54207373, 0.5585299 ,\n",
       "        0.57498608, 0.59144225, 0.60789843, 0.62435461, 0.64081078,\n",
       "        0.65726696, 0.67372313, 0.69017931, 0.70663548, 0.72309166,\n",
       "        0.73954783, 0.75600401, 0.77246018, 0.78891636, 0.80537254,\n",
       "        0.82182871, 0.83828489, 0.85474106, 0.87119724, 0.88765341,\n",
       "        0.90410959]),\n",
       " <BarContainer object of 50 artists>)"
      ]
     },
     "execution_count": 30,
     "metadata": {},
     "output_type": "execute_result"
    },
    {
     "data": {
      "image/png": "[encoded data removed]",
      "text/plain": [
       "<Figure size 640x480 with 1 Axes>"
      ]
     },
     "metadata": {},
     "output_type": "display_data"
    }
   ],
   "source": [
    "plt.hist(max_tanimoto_values, bins=50)"
   ]
  },
  {
   "cell_type": "code",
   "execution_count": 31,
   "id": "14581790-1dc9-481e-af62-03f41c94b183",
   "metadata": {},
   "outputs": [],
   "source": [
    "boundaries = check_boundary(max_tanimoto_values)"
   ]
  },
  {
   "cell_type": "code",
   "execution_count": 36,
   "id": "a78e8bae-8bb8-4582-918d-25f10b2d9b06",
   "metadata": {},
   "outputs": [
    {
     "data": {
      "text/plain": [
       "9"
      ]
     },
     "execution_count": 36,
     "metadata": {},
     "output_type": "execute_result"
    }
   ],
   "source": [
    "len(boundaries[0])"
   ]
  },
  {
   "cell_type": "code",
   "execution_count": 33,
   "id": "16b0071f-726a-4f08-a025-0f627f7e0710",
   "metadata": {},
   "outputs": [
    {
     "data": {
      "text/plain": [
       "array(['5XRA', '5TGZ'], dtype=object)"
      ]
     },
     "execution_count": 33,
     "metadata": {},
     "output_type": "execute_result"
    }
   ],
   "source": [
    "max_tanimoto_columns.iloc[boundaries[0]].unique()"
   ]
  },
  {
   "cell_type": "code",
   "execution_count": 34,
   "id": "3e3612c7-7bd1-4f87-88be-f9d695cfe2be",
   "metadata": {},
   "outputs": [],
   "source": [
    "sort_smiles_by_receptor(\"experiment_cnr1\", reference_receptors_cnr1, \n",
    "                        data_cnr1['id'], boundaries, \n",
    "                        data_cnr1['smiles'], max_tanimoto_columns, \"5U09\")"
   ]
  },
  {
   "cell_type": "code",
   "execution_count": 35,
   "id": "7fb0bc24-0a00-46e0-9e04-821773a2eccf",
   "metadata": {},
   "outputs": [
    {
     "data": {
      "text/plain": [
       "296     O=C(NN1CCCCC1)c1nn(-c2ccc(Cl)cc2Cl)c2c1CCCc1cc...\n",
       "504     Cc1ccc(Cn2nc(C(=O)N[C@@H]3C(C)(C)[C@@H]4CC[C@@...\n",
       "913            CN(C)CCn1cc(C(=O)C2C(C)(C)C2(C)C)c2ccccc21\n",
       "205              Cc1nc(N2CCN(C)CC2)c2nc(-c3ccccc3Cl)oc2n1\n",
       "2254    O=C(N[C@@H]1CCCC[C@H]1O)c1cnc(OC2CCCC2)c(-c2cc...\n",
       "                              ...                        \n",
       "1240       CCCCC1(c2cc(OC)c3cc(Cc4ccncc4)c(=O)oc3c2)CCCC1\n",
       "2506    COc1ccc(-c2c(C)c(C(=O)NC3(C#N)CCCCC3)nn2-c2ccc...\n",
       "4045        CCCCC1(c2cc(O)c3cc(-c4ccccc4)c(=O)oc3c2)CCCC1\n",
       "2679    CS(=O)(=O)O.Cc1c(C(=O)c2cccc3ccccc23)c2cccc3c2...\n",
       "2167    CCCc1c(CC)cc(C(=O)NC2(C(=O)O)CCCCC2)c(=O)n1Cc1...\n",
       "Name: smiles, Length: 500, dtype: object"
      ]
     },
     "execution_count": 35,
     "metadata": {},
     "output_type": "execute_result"
    }
   ],
   "source": [
    "data_cnr1['smiles']"
   ]
  },
  {
   "cell_type": "code",
   "execution_count": 8,
   "id": "a5d1a691-347e-4d90-9447-9a3b420a6b7a",
   "metadata": {},
   "outputs": [],
   "source": [
    "supecomp = pd.read_csv(\"supercomp.smi\", delimiter=\"\\t\", names=[\"smiles\", \"id\"])"
   ]
  },
  {
   "cell_type": "code",
   "execution_count": 9,
   "id": "81733ffe-bc27-4b09-80f4-9535c2cd2a51",
   "metadata": {},
   "outputs": [],
   "source": [
    "data = calculate_tanimoto_similarity(supecomp['smiles'].tolist(), reference_mols_cnr2, reference_receptors_cnr2)"
   ]
  },
  {
   "cell_type": "code",
   "execution_count": 10,
   "id": "a1d02165-6887-4472-9c26-103c664d09c1",
   "metadata": {},
   "outputs": [
    {
     "data": {
      "text/plain": [
       "(array([14., 26., 26., 12., 11.,  3.,  3.,  1.,  0.,  1.,  0.,  0.,  0.,\n",
       "         0.,  0.,  0.,  0.,  0.,  0.,  0.,  1.,  0.,  0.,  0.,  0.,  0.,\n",
       "         0.,  0.,  0.,  0.,  0.,  0.,  0.,  0.,  0.,  0.,  0.,  0.,  0.,\n",
       "         0.,  0.,  0.,  0.,  0.,  0.,  0.,  0.,  0.,  0.,  2.]),\n",
       " array([0.07142857, 0.09      , 0.10857143, 0.12714286, 0.14571429,\n",
       "        0.16428571, 0.18285714, 0.20142857, 0.22      , 0.23857143,\n",
       "        0.25714286, 0.27571429, 0.29428571, 0.31285714, 0.33142857,\n",
       "        0.35      , 0.36857143, 0.38714286, 0.40571429, 0.42428571,\n",
       "        0.44285714, 0.46142857, 0.48      , 0.49857143, 0.51714286,\n",
       "        0.53571429, 0.55428571, 0.57285714, 0.59142857, 0.61      ,\n",
       "        0.62857143, 0.64714286, 0.66571429, 0.68428571, 0.70285714,\n",
       "        0.72142857, 0.74      , 0.75857143, 0.77714286, 0.79571429,\n",
       "        0.81428571, 0.83285714, 0.85142857, 0.87      , 0.88857143,\n",
       "        0.90714286, 0.92571429, 0.94428571, 0.96285714, 0.98142857,\n",
       "        1.        ]),\n",
       " <BarContainer object of 50 artists>)"
      ]
     },
     "execution_count": 10,
     "metadata": {},
     "output_type": "execute_result"
    },
    {
     "data": {
      "image/png": "[encoded data removed]",
      "text/plain": [
       "<Figure size 640x480 with 1 Axes>"
      ]
     },
     "metadata": {},
     "output_type": "display_data"
    }
   ],
   "source": [
    "max_tanimoto_values = data.iloc[:, 0:].max(axis=1)\n",
    "max_tanimoto_columns = data.iloc[:, 0:].idxmax(axis=1)\n",
    "plt.hist(max_tanimoto_values, bins=50)"
   ]
  },
  {
   "cell_type": "code",
   "execution_count": 13,
   "id": "f183e0a4-0bac-4763-9a3a-666f1e4767a9",
   "metadata": {},
   "outputs": [],
   "source": [
    "boundaries = check_boundary(max_tanimoto_values)"
   ]
  },
  {
   "cell_type": "code",
   "execution_count": 15,
   "id": "d621a56e-2e31-4465-b626-94fb0c08aa81",
   "metadata": {},
   "outputs": [
    {
     "data": {
      "text/plain": [
       "array(['6KPF', '8GUR'], dtype=object)"
      ]
     },
     "execution_count": 15,
     "metadata": {},
     "output_type": "execute_result"
    }
   ],
   "source": [
    "max_tanimoto_columns.iloc[boundaries[0]].unique()"
   ]
  },
  {
   "cell_type": "code",
   "execution_count": 18,
   "id": "6bb27070-8055-454d-a552-b005f2ba9833",
   "metadata": {},
   "outputs": [],
   "source": [
    "sort_smiles_by_receptor(\"supercomp_cnr2\", reference_receptors_cnr2, \n",
    "                        supecomp['id'], boundaries, \n",
    "                        supecomp['smiles'], max_tanimoto_columns, \"5ZTY\")"
   ]
  },
  {
   "cell_type": "code",
   "execution_count": null,
   "id": "d9e18a43-8b4b-42c1-ab99-6a7fc96d4e69",
   "metadata": {},
   "outputs": [],
   "source": []
  }
 ],
 "metadata": {
  "kernelspec": {
   "display_name": "Python 3 (ipykernel)",
   "language": "python",
   "name": "python3"
  },
  "language_info": {
   "codemirror_mode": {
    "name": "ipython",
    "version": 3
   },
   "file_extension": ".py",
   "mimetype": "text/x-python",
   "name": "python",
   "nbconvert_exporter": "python",
   "pygments_lexer": "ipython3",
   "version": "3.11.7"
  }
 },
 "nbformat": 4,
 "nbformat_minor": 5
}
