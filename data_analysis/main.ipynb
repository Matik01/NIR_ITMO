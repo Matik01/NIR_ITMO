{
 "cells": [
  {
   "cell_type": "code",
   "id": "780c5026-0a90-43ae-b77e-5b1edf235b44",
   "metadata": {
    "editable": true,
    "slideshow": {
     "slide_type": ""
    },
    "tags": [],
    "ExecuteTime": {
     "end_time": "2025-02-17T09:53:38.368007Z",
     "start_time": "2025-02-17T09:53:38.356453Z"
    }
   },
   "source": [
    "import pandas as pd\n",
    "import numpy as np\n",
    "import matplotlib.pyplot as plt\n",
    "import seaborn as sns\n",
    "import datamol as dm"
   ],
   "outputs": [],
   "execution_count": 91
  },
  {
   "cell_type": "code",
   "id": "37ea1d8f-fd3a-4727-b4f1-30159811c9f4",
   "metadata": {
    "editable": true,
    "slideshow": {
     "slide_type": ""
    },
    "tags": [],
    "ExecuteTime": {
     "end_time": "2025-02-17T09:53:38.773974Z",
     "start_time": "2025-02-17T09:53:38.514672Z"
    }
   },
   "source": [
    "data = pd.read_csv('chembl253.csv', delimiter=\";\")"
   ],
   "outputs": [
    {
     "name": "stderr",
     "output_type": "stream",
     "text": [
      "C:\\Users\\user\\AppData\\Local\\Temp\\ipykernel_9032\\122649876.py:1: DtypeWarning: Columns (27,28) have mixed types. Specify dtype option on import or set low_memory=False.\n",
      "  data = pd.read_csv('chembl253.csv', delimiter=\";\")\n"
     ]
    }
   ],
   "execution_count": 92
  },
  {
   "cell_type": "code",
   "id": "47b55153-b111-4647-aa1a-323971f5c52d",
   "metadata": {
    "ExecuteTime": {
     "end_time": "2025-02-17T09:53:38.850050Z",
     "start_time": "2025-02-17T09:53:38.840934Z"
    }
   },
   "source": [
    "data.columns"
   ],
   "outputs": [
    {
     "data": {
      "text/plain": [
       "Index(['Molecule ChEMBL ID', 'Molecule Name', 'Molecule Max Phase',\n",
       "       'Molecular Weight', '#RO5 Violations', 'AlogP', 'Compound Key',\n",
       "       'Smiles', 'Standard Type', 'Standard Relation', 'Standard Value',\n",
       "       'Standard Units', 'pChEMBL Value', 'Data Validity Comment', 'Comment',\n",
       "       'Uo Units', 'Ligand Efficiency BEI', 'Ligand Efficiency LE',\n",
       "       'Ligand Efficiency LLE', 'Ligand Efficiency SEI', 'Potential Duplicate',\n",
       "       'Assay ChEMBL ID', 'Assay Description', 'Assay Type', 'BAO Format ID',\n",
       "       'BAO Label', 'Assay Organism', 'Assay Tissue ChEMBL ID',\n",
       "       'Assay Tissue Name', 'Assay Cell Type', 'Assay Subcellular Fraction',\n",
       "       'Assay Parameters', 'Assay Variant Accession', 'Assay Variant Mutation',\n",
       "       'Target ChEMBL ID', 'Target Name', 'Target Organism', 'Target Type',\n",
       "       'Document ChEMBL ID', 'Source ID', 'Source Description',\n",
       "       'Document Journal', 'Document Year', 'Cell ChEMBL ID', 'Properties',\n",
       "       'Action Type', 'Standard Text Value'],\n",
       "      dtype='object')"
      ]
     },
     "execution_count": 93,
     "metadata": {},
     "output_type": "execute_result"
    }
   ],
   "execution_count": 93
  },
  {
   "cell_type": "code",
   "id": "fe49e450-7271-433a-86f5-14edfddf6122",
   "metadata": {
    "ExecuteTime": {
     "end_time": "2025-02-17T09:53:39.214369Z",
     "start_time": "2025-02-17T09:53:39.162227Z"
    }
   },
   "source": [
    "data.head()"
   ],
   "outputs": [
    {
     "data": {
      "text/plain": [
       "  Molecule ChEMBL ID Molecule Name  Molecule Max Phase  Molecular Weight  \\\n",
       "0      CHEMBL1828806           NaN                 NaN            356.47   \n",
       "1       CHEMBL157591           NaN                 NaN            520.96   \n",
       "2       CHEMBL583855           NaN                 NaN            443.38   \n",
       "3       CHEMBL596626           NaN                 NaN            369.90   \n",
       "4       CHEMBL597438           NaN                 NaN            391.56   \n",
       "\n",
       "   #RO5 Violations  AlogP Compound Key  \\\n",
       "0              1.0   6.24           18   \n",
       "1              2.0   5.13           74   \n",
       "2              1.0   5.54            3   \n",
       "3              0.0   4.53           16   \n",
       "4              1.0   5.22           13   \n",
       "\n",
       "                                              Smiles Standard Type  \\\n",
       "0           CCCCCn1cc(C(=O)Nc2ccc3ccccc3c2)c2ccccc21            Ki   \n",
       "1  C/N=C(\\NS(=O)(=O)c1cccc(C(F)(F)F)c1)N1CC(c2ccc...            Ki   \n",
       "2  CCc1c(C(=O)NN2CCCCC2)nc(-c2ccccc2Cl)n1-c1ccc(C...            Ki   \n",
       "3  Cc1nc(C(=O)NC23CC4CC(CC(C4)C2)C3)c(Cl)n1-c1ccccc1          EC50   \n",
       "4  CCCCc1c(C(=O)NC23CC4CC(CC(C4)C2)C3)nc(C)n1-c1c...          EC50   \n",
       "\n",
       "  Standard Relation  ...     Target Type Document ChEMBL ID  Source ID  \\\n",
       "0               '='  ...  SINGLE PROTEIN      CHEMBL1828497          1   \n",
       "1               '>'  ...  SINGLE PROTEIN      CHEMBL1148395          1   \n",
       "2               '>'  ...  SINGLE PROTEIN      CHEMBL1156813          1   \n",
       "3               '='  ...  SINGLE PROTEIN      CHEMBL1158524          1   \n",
       "4               '='  ...  SINGLE PROTEIN      CHEMBL1158524          1   \n",
       "\n",
       "      Source Description      Document Journal Document Year  Cell ChEMBL ID  \\\n",
       "0  Scientific Literature        Eur J Med Chem        2011.0   CHEMBL3308072   \n",
       "1  Scientific Literature            J Med Chem        2004.0   CHEMBL3308072   \n",
       "2  Scientific Literature            J Med Chem        2010.0   CHEMBL3308072   \n",
       "3  Scientific Literature  Bioorg Med Chem Lett        2010.0             NaN   \n",
       "4  Scientific Literature  Bioorg Med Chem Lett        2010.0             NaN   \n",
       "\n",
       "   Properties  Action Type  Standard Text Value  \n",
       "0         NaN          NaN                  NaN  \n",
       "1         NaN          NaN                  NaN  \n",
       "2         NaN          NaN                  NaN  \n",
       "3         NaN          NaN                  NaN  \n",
       "4         NaN          NaN                  NaN  \n",
       "\n",
       "[5 rows x 47 columns]"
      ],
      "text/html": [
       "<div>\n",
       "<style scoped>\n",
       "    .dataframe tbody tr th:only-of-type {\n",
       "        vertical-align: middle;\n",
       "    }\n",
       "\n",
       "    .dataframe tbody tr th {\n",
       "        vertical-align: top;\n",
       "    }\n",
       "\n",
       "    .dataframe thead th {\n",
       "        text-align: right;\n",
       "    }\n",
       "</style>\n",
       "<table border=\"1\" class=\"dataframe\">\n",
       "  <thead>\n",
       "    <tr style=\"text-align: right;\">\n",
       "      <th></th>\n",
       "      <th>Molecule ChEMBL ID</th>\n",
       "      <th>Molecule Name</th>\n",
       "      <th>Molecule Max Phase</th>\n",
       "      <th>Molecular Weight</th>\n",
       "      <th>#RO5 Violations</th>\n",
       "      <th>AlogP</th>\n",
       "      <th>Compound Key</th>\n",
       "      <th>Smiles</th>\n",
       "      <th>Standard Type</th>\n",
       "      <th>Standard Relation</th>\n",
       "      <th>...</th>\n",
       "      <th>Target Type</th>\n",
       "      <th>Document ChEMBL ID</th>\n",
       "      <th>Source ID</th>\n",
       "      <th>Source Description</th>\n",
       "      <th>Document Journal</th>\n",
       "      <th>Document Year</th>\n",
       "      <th>Cell ChEMBL ID</th>\n",
       "      <th>Properties</th>\n",
       "      <th>Action Type</th>\n",
       "      <th>Standard Text Value</th>\n",
       "    </tr>\n",
       "  </thead>\n",
       "  <tbody>\n",
       "    <tr>\n",
       "      <th>0</th>\n",
       "      <td>CHEMBL1828806</td>\n",
       "      <td>NaN</td>\n",
       "      <td>NaN</td>\n",
       "      <td>356.47</td>\n",
       "      <td>1.0</td>\n",
       "      <td>6.24</td>\n",
       "      <td>18</td>\n",
       "      <td>CCCCCn1cc(C(=O)Nc2ccc3ccccc3c2)c2ccccc21</td>\n",
       "      <td>Ki</td>\n",
       "      <td>'='</td>\n",
       "      <td>...</td>\n",
       "      <td>SINGLE PROTEIN</td>\n",
       "      <td>CHEMBL1828497</td>\n",
       "      <td>1</td>\n",
       "      <td>Scientific Literature</td>\n",
       "      <td>Eur J Med Chem</td>\n",
       "      <td>2011.0</td>\n",
       "      <td>CHEMBL3308072</td>\n",
       "      <td>NaN</td>\n",
       "      <td>NaN</td>\n",
       "      <td>NaN</td>\n",
       "    </tr>\n",
       "    <tr>\n",
       "      <th>1</th>\n",
       "      <td>CHEMBL157591</td>\n",
       "      <td>NaN</td>\n",
       "      <td>NaN</td>\n",
       "      <td>520.96</td>\n",
       "      <td>2.0</td>\n",
       "      <td>5.13</td>\n",
       "      <td>74</td>\n",
       "      <td>C/N=C(\\NS(=O)(=O)c1cccc(C(F)(F)F)c1)N1CC(c2ccc...</td>\n",
       "      <td>Ki</td>\n",
       "      <td>'&gt;'</td>\n",
       "      <td>...</td>\n",
       "      <td>SINGLE PROTEIN</td>\n",
       "      <td>CHEMBL1148395</td>\n",
       "      <td>1</td>\n",
       "      <td>Scientific Literature</td>\n",
       "      <td>J Med Chem</td>\n",
       "      <td>2004.0</td>\n",
       "      <td>CHEMBL3308072</td>\n",
       "      <td>NaN</td>\n",
       "      <td>NaN</td>\n",
       "      <td>NaN</td>\n",
       "    </tr>\n",
       "    <tr>\n",
       "      <th>2</th>\n",
       "      <td>CHEMBL583855</td>\n",
       "      <td>NaN</td>\n",
       "      <td>NaN</td>\n",
       "      <td>443.38</td>\n",
       "      <td>1.0</td>\n",
       "      <td>5.54</td>\n",
       "      <td>3</td>\n",
       "      <td>CCc1c(C(=O)NN2CCCCC2)nc(-c2ccccc2Cl)n1-c1ccc(C...</td>\n",
       "      <td>Ki</td>\n",
       "      <td>'&gt;'</td>\n",
       "      <td>...</td>\n",
       "      <td>SINGLE PROTEIN</td>\n",
       "      <td>CHEMBL1156813</td>\n",
       "      <td>1</td>\n",
       "      <td>Scientific Literature</td>\n",
       "      <td>J Med Chem</td>\n",
       "      <td>2010.0</td>\n",
       "      <td>CHEMBL3308072</td>\n",
       "      <td>NaN</td>\n",
       "      <td>NaN</td>\n",
       "      <td>NaN</td>\n",
       "    </tr>\n",
       "    <tr>\n",
       "      <th>3</th>\n",
       "      <td>CHEMBL596626</td>\n",
       "      <td>NaN</td>\n",
       "      <td>NaN</td>\n",
       "      <td>369.90</td>\n",
       "      <td>0.0</td>\n",
       "      <td>4.53</td>\n",
       "      <td>16</td>\n",
       "      <td>Cc1nc(C(=O)NC23CC4CC(CC(C4)C2)C3)c(Cl)n1-c1ccccc1</td>\n",
       "      <td>EC50</td>\n",
       "      <td>'='</td>\n",
       "      <td>...</td>\n",
       "      <td>SINGLE PROTEIN</td>\n",
       "      <td>CHEMBL1158524</td>\n",
       "      <td>1</td>\n",
       "      <td>Scientific Literature</td>\n",
       "      <td>Bioorg Med Chem Lett</td>\n",
       "      <td>2010.0</td>\n",
       "      <td>NaN</td>\n",
       "      <td>NaN</td>\n",
       "      <td>NaN</td>\n",
       "      <td>NaN</td>\n",
       "    </tr>\n",
       "    <tr>\n",
       "      <th>4</th>\n",
       "      <td>CHEMBL597438</td>\n",
       "      <td>NaN</td>\n",
       "      <td>NaN</td>\n",
       "      <td>391.56</td>\n",
       "      <td>1.0</td>\n",
       "      <td>5.22</td>\n",
       "      <td>13</td>\n",
       "      <td>CCCCc1c(C(=O)NC23CC4CC(CC(C4)C2)C3)nc(C)n1-c1c...</td>\n",
       "      <td>EC50</td>\n",
       "      <td>'='</td>\n",
       "      <td>...</td>\n",
       "      <td>SINGLE PROTEIN</td>\n",
       "      <td>CHEMBL1158524</td>\n",
       "      <td>1</td>\n",
       "      <td>Scientific Literature</td>\n",
       "      <td>Bioorg Med Chem Lett</td>\n",
       "      <td>2010.0</td>\n",
       "      <td>NaN</td>\n",
       "      <td>NaN</td>\n",
       "      <td>NaN</td>\n",
       "      <td>NaN</td>\n",
       "    </tr>\n",
       "  </tbody>\n",
       "</table>\n",
       "<p>5 rows × 47 columns</p>\n",
       "</div>"
      ]
     },
     "execution_count": 94,
     "metadata": {},
     "output_type": "execute_result"
    }
   ],
   "execution_count": 94
  },
  {
   "cell_type": "code",
   "id": "072302d9-85fc-4d9a-aa4c-04f8d9aaeb4e",
   "metadata": {
    "ExecuteTime": {
     "end_time": "2025-02-17T09:53:39.481647Z",
     "start_time": "2025-02-17T09:53:39.465822Z"
    }
   },
   "source": [
    "df = data[['Molecule ChEMBL ID', 'Smiles', 'Standard Type','Standard Value', 'Standard Units']].copy()\n",
    "df.rename(columns = {'Molecule ChEMBL ID':'id', 'Smiles': 'smiles', 'Standard Type': 'value_type', 'Standard Value' : 'value', 'Standard Units' : 'units'}, inplace=True)"
   ],
   "outputs": [],
   "execution_count": 95
  },
  {
   "cell_type": "code",
   "id": "a3376167-0f4b-43c7-afd5-ce4f5b018bcf",
   "metadata": {
    "ExecuteTime": {
     "end_time": "2025-02-17T09:53:39.711993Z",
     "start_time": "2025-02-17T09:53:39.695307Z"
    }
   },
   "source": [
    "df['units'].unique()"
   ],
   "outputs": [
    {
     "data": {
      "text/plain": [
       "array(['nM', '%', nan, 'kcal/mol', 'degrees C', '10^3nM'], dtype=object)"
      ]
     },
     "execution_count": 96,
     "metadata": {},
     "output_type": "execute_result"
    }
   ],
   "execution_count": 96
  },
  {
   "cell_type": "code",
   "id": "048d6bbe-9658-4f58-bec9-d4adbae5bb9d",
   "metadata": {
    "ExecuteTime": {
     "end_time": "2025-02-17T09:53:40.137199Z",
     "start_time": "2025-02-17T09:53:40.127361Z"
    }
   },
   "source": [
    "filter = ['%', 'kcal/mol', 'nan', 'degrees C', '10^3nM']"
   ],
   "outputs": [],
   "execution_count": 97
  },
  {
   "cell_type": "code",
   "id": "dd37f9f7-7e86-473b-8aac-d738e9a7eb97",
   "metadata": {
    "ExecuteTime": {
     "end_time": "2025-02-17T09:53:40.534979Z",
     "start_time": "2025-02-17T09:53:40.524231Z"
    }
   },
   "source": [
    "df = df[~df['units'].isin(filter)]"
   ],
   "outputs": [],
   "execution_count": 98
  },
  {
   "cell_type": "code",
   "id": "9d7ffd82-aef7-449d-a157-8c30875c80d7",
   "metadata": {
    "ExecuteTime": {
     "end_time": "2025-02-17T09:53:40.924165Z",
     "start_time": "2025-02-17T09:53:40.899216Z"
    }
   },
   "source": [
    "df"
   ],
   "outputs": [
    {
     "data": {
      "text/plain": [
       "                  id                                             smiles  \\\n",
       "0      CHEMBL1828806           CCCCCn1cc(C(=O)Nc2ccc3ccccc3c2)c2ccccc21   \n",
       "1       CHEMBL157591  C/N=C(\\NS(=O)(=O)c1cccc(C(F)(F)F)c1)N1CC(c2ccc...   \n",
       "2       CHEMBL583855  CCc1c(C(=O)NN2CCCCC2)nc(-c2ccccc2Cl)n1-c1ccc(C...   \n",
       "3       CHEMBL596626  Cc1nc(C(=O)NC23CC4CC(CC(C4)C2)C3)c(Cl)n1-c1ccccc1   \n",
       "4       CHEMBL597438  CCCCc1c(C(=O)NC23CC4CC(CC(C4)C2)C3)nc(C)n1-c1c...   \n",
       "...              ...                                                ...   \n",
       "16931  CHEMBL5084642  N/C(=N\\C(=N\\S(=O)(=O)N1CCCC1)N1CC(c2ccccc2)C(c...   \n",
       "16932    CHEMBL73711  COc1ccc2c(c1)c(CCN1CCOCC1)c(C)n2C(=O)c1cccc(Cl...   \n",
       "16936  CHEMBL2068805     CCCCOc1c(OC)ccc2cc(C(=O)NC3CCCCC3)c(=O)[nH]c12   \n",
       "16938  CHEMBL5176915  O=C(c1cc(O)ccc1F)N1CCC(Cc2cccc(Oc3cc(C(F)(F)F)...   \n",
       "16940  CHEMBL4639128  COCc1nc2cnc3cc(-c4c(C)noc4C)c(OC[C@H]4CCNC4)cc...   \n",
       "\n",
       "      value_type       value units  \n",
       "0             Ki     630.960    nM  \n",
       "1             Ki    1000.000    nM  \n",
       "2             Ki    1000.000    nM  \n",
       "3           EC50      63.100    nM  \n",
       "4           EC50       5.012    nM  \n",
       "...          ...         ...   ...  \n",
       "16931         Ki    1000.000    nM  \n",
       "16932         Ki      12.000    nM  \n",
       "16936         Ki       9.600    nM  \n",
       "16938       IC50   10000.000    nM  \n",
       "16940       EC50  100000.000    nM  \n",
       "\n",
       "[12845 rows x 5 columns]"
      ],
      "text/html": [
       "<div>\n",
       "<style scoped>\n",
       "    .dataframe tbody tr th:only-of-type {\n",
       "        vertical-align: middle;\n",
       "    }\n",
       "\n",
       "    .dataframe tbody tr th {\n",
       "        vertical-align: top;\n",
       "    }\n",
       "\n",
       "    .dataframe thead th {\n",
       "        text-align: right;\n",
       "    }\n",
       "</style>\n",
       "<table border=\"1\" class=\"dataframe\">\n",
       "  <thead>\n",
       "    <tr style=\"text-align: right;\">\n",
       "      <th></th>\n",
       "      <th>id</th>\n",
       "      <th>smiles</th>\n",
       "      <th>value_type</th>\n",
       "      <th>value</th>\n",
       "      <th>units</th>\n",
       "    </tr>\n",
       "  </thead>\n",
       "  <tbody>\n",
       "    <tr>\n",
       "      <th>0</th>\n",
       "      <td>CHEMBL1828806</td>\n",
       "      <td>CCCCCn1cc(C(=O)Nc2ccc3ccccc3c2)c2ccccc21</td>\n",
       "      <td>Ki</td>\n",
       "      <td>630.960</td>\n",
       "      <td>nM</td>\n",
       "    </tr>\n",
       "    <tr>\n",
       "      <th>1</th>\n",
       "      <td>CHEMBL157591</td>\n",
       "      <td>C/N=C(\\NS(=O)(=O)c1cccc(C(F)(F)F)c1)N1CC(c2ccc...</td>\n",
       "      <td>Ki</td>\n",
       "      <td>1000.000</td>\n",
       "      <td>nM</td>\n",
       "    </tr>\n",
       "    <tr>\n",
       "      <th>2</th>\n",
       "      <td>CHEMBL583855</td>\n",
       "      <td>CCc1c(C(=O)NN2CCCCC2)nc(-c2ccccc2Cl)n1-c1ccc(C...</td>\n",
       "      <td>Ki</td>\n",
       "      <td>1000.000</td>\n",
       "      <td>nM</td>\n",
       "    </tr>\n",
       "    <tr>\n",
       "      <th>3</th>\n",
       "      <td>CHEMBL596626</td>\n",
       "      <td>Cc1nc(C(=O)NC23CC4CC(CC(C4)C2)C3)c(Cl)n1-c1ccccc1</td>\n",
       "      <td>EC50</td>\n",
       "      <td>63.100</td>\n",
       "      <td>nM</td>\n",
       "    </tr>\n",
       "    <tr>\n",
       "      <th>4</th>\n",
       "      <td>CHEMBL597438</td>\n",
       "      <td>CCCCc1c(C(=O)NC23CC4CC(CC(C4)C2)C3)nc(C)n1-c1c...</td>\n",
       "      <td>EC50</td>\n",
       "      <td>5.012</td>\n",
       "      <td>nM</td>\n",
       "    </tr>\n",
       "    <tr>\n",
       "      <th>...</th>\n",
       "      <td>...</td>\n",
       "      <td>...</td>\n",
       "      <td>...</td>\n",
       "      <td>...</td>\n",
       "      <td>...</td>\n",
       "    </tr>\n",
       "    <tr>\n",
       "      <th>16931</th>\n",
       "      <td>CHEMBL5084642</td>\n",
       "      <td>N/C(=N\\C(=N\\S(=O)(=O)N1CCCC1)N1CC(c2ccccc2)C(c...</td>\n",
       "      <td>Ki</td>\n",
       "      <td>1000.000</td>\n",
       "      <td>nM</td>\n",
       "    </tr>\n",
       "    <tr>\n",
       "      <th>16932</th>\n",
       "      <td>CHEMBL73711</td>\n",
       "      <td>COc1ccc2c(c1)c(CCN1CCOCC1)c(C)n2C(=O)c1cccc(Cl...</td>\n",
       "      <td>Ki</td>\n",
       "      <td>12.000</td>\n",
       "      <td>nM</td>\n",
       "    </tr>\n",
       "    <tr>\n",
       "      <th>16936</th>\n",
       "      <td>CHEMBL2068805</td>\n",
       "      <td>CCCCOc1c(OC)ccc2cc(C(=O)NC3CCCCC3)c(=O)[nH]c12</td>\n",
       "      <td>Ki</td>\n",
       "      <td>9.600</td>\n",
       "      <td>nM</td>\n",
       "    </tr>\n",
       "    <tr>\n",
       "      <th>16938</th>\n",
       "      <td>CHEMBL5176915</td>\n",
       "      <td>O=C(c1cc(O)ccc1F)N1CCC(Cc2cccc(Oc3cc(C(F)(F)F)...</td>\n",
       "      <td>IC50</td>\n",
       "      <td>10000.000</td>\n",
       "      <td>nM</td>\n",
       "    </tr>\n",
       "    <tr>\n",
       "      <th>16940</th>\n",
       "      <td>CHEMBL4639128</td>\n",
       "      <td>COCc1nc2cnc3cc(-c4c(C)noc4C)c(OC[C@H]4CCNC4)cc...</td>\n",
       "      <td>EC50</td>\n",
       "      <td>100000.000</td>\n",
       "      <td>nM</td>\n",
       "    </tr>\n",
       "  </tbody>\n",
       "</table>\n",
       "<p>12845 rows × 5 columns</p>\n",
       "</div>"
      ]
     },
     "execution_count": 99,
     "metadata": {},
     "output_type": "execute_result"
    }
   ],
   "execution_count": 99
  },
  {
   "cell_type": "code",
   "id": "f9a7a139-bd9d-4fcb-8b99-ae3edb061865",
   "metadata": {
    "ExecuteTime": {
     "end_time": "2025-02-17T09:53:41.024502Z",
     "start_time": "2025-02-17T09:53:41.001289Z"
    }
   },
   "source": [
    "df.info()"
   ],
   "outputs": [
    {
     "name": "stdout",
     "output_type": "stream",
     "text": [
      "<class 'pandas.core.frame.DataFrame'>\n",
      "Index: 12845 entries, 0 to 16940\n",
      "Data columns (total 5 columns):\n",
      " #   Column      Non-Null Count  Dtype  \n",
      "---  ------      --------------  -----  \n",
      " 0   id          12845 non-null  object \n",
      " 1   smiles      12844 non-null  object \n",
      " 2   value_type  12845 non-null  object \n",
      " 3   value       11750 non-null  float64\n",
      " 4   units       11718 non-null  object \n",
      "dtypes: float64(1), object(4)\n",
      "memory usage: 602.1+ KB\n"
     ]
    }
   ],
   "execution_count": 100
  },
  {
   "cell_type": "code",
   "id": "032f71a2-44b2-4d0a-80be-c50c725d4054",
   "metadata": {
    "ExecuteTime": {
     "end_time": "2025-02-17T09:53:41.228824Z",
     "start_time": "2025-02-17T09:53:41.209994Z"
    }
   },
   "source": [
    "df.dropna(inplace=True)"
   ],
   "outputs": [],
   "execution_count": 101
  },
  {
   "cell_type": "code",
   "id": "826b3417-c880-44c3-9aca-d9fb94427482",
   "metadata": {
    "ExecuteTime": {
     "end_time": "2025-02-17T09:53:41.442691Z",
     "start_time": "2025-02-17T09:53:41.421655Z"
    }
   },
   "source": [
    "df.info()"
   ],
   "outputs": [
    {
     "name": "stdout",
     "output_type": "stream",
     "text": [
      "<class 'pandas.core.frame.DataFrame'>\n",
      "Index: 11705 entries, 0 to 16940\n",
      "Data columns (total 5 columns):\n",
      " #   Column      Non-Null Count  Dtype  \n",
      "---  ------      --------------  -----  \n",
      " 0   id          11705 non-null  object \n",
      " 1   smiles      11705 non-null  object \n",
      " 2   value_type  11705 non-null  object \n",
      " 3   value       11705 non-null  float64\n",
      " 4   units       11705 non-null  object \n",
      "dtypes: float64(1), object(4)\n",
      "memory usage: 548.7+ KB\n"
     ]
    }
   ],
   "execution_count": 102
  },
  {
   "cell_type": "code",
   "id": "fba8ddac-d81e-4fa7-8419-407aeb957359",
   "metadata": {
    "ExecuteTime": {
     "end_time": "2025-02-17T09:53:41.727293Z",
     "start_time": "2025-02-17T09:53:41.717029Z"
    }
   },
   "source": [
    "def preprocess(row):\n",
    "    halogens = ['Cl', 'F', 'O=S(=O)(O)O', 'CS(=O)(=O)O', '[I-]', 'COS(=O)(=O)[O-]', '[Br-]', 'O', '[K+]', '[Na+]']\n",
    "    if \".\" in row:\n",
    "        fragments = row.split(sep=\".\")\n",
    "        fragments_set = {i for i in fragments}\n",
    "        for fragment in fragments_set:\n",
    "            if fragment not in halogens:\n",
    "                return fragment\n",
    "    return row"
   ],
   "outputs": [],
   "execution_count": 103
  },
  {
   "cell_type": "code",
   "id": "3e4a7a06-55a8-4817-a080-1f39d5709ec1",
   "metadata": {
    "ExecuteTime": {
     "end_time": "2025-02-17T09:53:41.844759Z",
     "start_time": "2025-02-17T09:53:41.829734Z"
    }
   },
   "source": [
    "df['smiles'] = df['smiles'].apply(preprocess)"
   ],
   "outputs": [],
   "execution_count": 104
  },
  {
   "cell_type": "code",
   "id": "12782c27-d39d-4101-8348-8b3f7f3721d1",
   "metadata": {
    "ExecuteTime": {
     "end_time": "2025-02-17T09:53:41.966729Z",
     "start_time": "2025-02-17T09:53:41.941941Z"
    }
   },
   "source": [
    "df"
   ],
   "outputs": [
    {
     "data": {
      "text/plain": [
       "                  id                                             smiles  \\\n",
       "0      CHEMBL1828806           CCCCCn1cc(C(=O)Nc2ccc3ccccc3c2)c2ccccc21   \n",
       "1       CHEMBL157591  C/N=C(\\NS(=O)(=O)c1cccc(C(F)(F)F)c1)N1CC(c2ccc...   \n",
       "2       CHEMBL583855  CCc1c(C(=O)NN2CCCCC2)nc(-c2ccccc2Cl)n1-c1ccc(C...   \n",
       "3       CHEMBL596626  Cc1nc(C(=O)NC23CC4CC(CC(C4)C2)C3)c(Cl)n1-c1ccccc1   \n",
       "4       CHEMBL597438  CCCCc1c(C(=O)NC23CC4CC(CC(C4)C2)C3)nc(C)n1-c1c...   \n",
       "...              ...                                                ...   \n",
       "16931  CHEMBL5084642  N/C(=N\\C(=N\\S(=O)(=O)N1CCCC1)N1CC(c2ccccc2)C(c...   \n",
       "16932    CHEMBL73711  COc1ccc2c(c1)c(CCN1CCOCC1)c(C)n2C(=O)c1cccc(Cl...   \n",
       "16936  CHEMBL2068805     CCCCOc1c(OC)ccc2cc(C(=O)NC3CCCCC3)c(=O)[nH]c12   \n",
       "16938  CHEMBL5176915  O=C(c1cc(O)ccc1F)N1CCC(Cc2cccc(Oc3cc(C(F)(F)F)...   \n",
       "16940  CHEMBL4639128  COCc1nc2cnc3cc(-c4c(C)noc4C)c(OC[C@H]4CCNC4)cc...   \n",
       "\n",
       "      value_type       value units  \n",
       "0             Ki     630.960    nM  \n",
       "1             Ki    1000.000    nM  \n",
       "2             Ki    1000.000    nM  \n",
       "3           EC50      63.100    nM  \n",
       "4           EC50       5.012    nM  \n",
       "...          ...         ...   ...  \n",
       "16931         Ki    1000.000    nM  \n",
       "16932         Ki      12.000    nM  \n",
       "16936         Ki       9.600    nM  \n",
       "16938       IC50   10000.000    nM  \n",
       "16940       EC50  100000.000    nM  \n",
       "\n",
       "[11705 rows x 5 columns]"
      ],
      "text/html": [
       "<div>\n",
       "<style scoped>\n",
       "    .dataframe tbody tr th:only-of-type {\n",
       "        vertical-align: middle;\n",
       "    }\n",
       "\n",
       "    .dataframe tbody tr th {\n",
       "        vertical-align: top;\n",
       "    }\n",
       "\n",
       "    .dataframe thead th {\n",
       "        text-align: right;\n",
       "    }\n",
       "</style>\n",
       "<table border=\"1\" class=\"dataframe\">\n",
       "  <thead>\n",
       "    <tr style=\"text-align: right;\">\n",
       "      <th></th>\n",
       "      <th>id</th>\n",
       "      <th>smiles</th>\n",
       "      <th>value_type</th>\n",
       "      <th>value</th>\n",
       "      <th>units</th>\n",
       "    </tr>\n",
       "  </thead>\n",
       "  <tbody>\n",
       "    <tr>\n",
       "      <th>0</th>\n",
       "      <td>CHEMBL1828806</td>\n",
       "      <td>CCCCCn1cc(C(=O)Nc2ccc3ccccc3c2)c2ccccc21</td>\n",
       "      <td>Ki</td>\n",
       "      <td>630.960</td>\n",
       "      <td>nM</td>\n",
       "    </tr>\n",
       "    <tr>\n",
       "      <th>1</th>\n",
       "      <td>CHEMBL157591</td>\n",
       "      <td>C/N=C(\\NS(=O)(=O)c1cccc(C(F)(F)F)c1)N1CC(c2ccc...</td>\n",
       "      <td>Ki</td>\n",
       "      <td>1000.000</td>\n",
       "      <td>nM</td>\n",
       "    </tr>\n",
       "    <tr>\n",
       "      <th>2</th>\n",
       "      <td>CHEMBL583855</td>\n",
       "      <td>CCc1c(C(=O)NN2CCCCC2)nc(-c2ccccc2Cl)n1-c1ccc(C...</td>\n",
       "      <td>Ki</td>\n",
       "      <td>1000.000</td>\n",
       "      <td>nM</td>\n",
       "    </tr>\n",
       "    <tr>\n",
       "      <th>3</th>\n",
       "      <td>CHEMBL596626</td>\n",
       "      <td>Cc1nc(C(=O)NC23CC4CC(CC(C4)C2)C3)c(Cl)n1-c1ccccc1</td>\n",
       "      <td>EC50</td>\n",
       "      <td>63.100</td>\n",
       "      <td>nM</td>\n",
       "    </tr>\n",
       "    <tr>\n",
       "      <th>4</th>\n",
       "      <td>CHEMBL597438</td>\n",
       "      <td>CCCCc1c(C(=O)NC23CC4CC(CC(C4)C2)C3)nc(C)n1-c1c...</td>\n",
       "      <td>EC50</td>\n",
       "      <td>5.012</td>\n",
       "      <td>nM</td>\n",
       "    </tr>\n",
       "    <tr>\n",
       "      <th>...</th>\n",
       "      <td>...</td>\n",
       "      <td>...</td>\n",
       "      <td>...</td>\n",
       "      <td>...</td>\n",
       "      <td>...</td>\n",
       "    </tr>\n",
       "    <tr>\n",
       "      <th>16931</th>\n",
       "      <td>CHEMBL5084642</td>\n",
       "      <td>N/C(=N\\C(=N\\S(=O)(=O)N1CCCC1)N1CC(c2ccccc2)C(c...</td>\n",
       "      <td>Ki</td>\n",
       "      <td>1000.000</td>\n",
       "      <td>nM</td>\n",
       "    </tr>\n",
       "    <tr>\n",
       "      <th>16932</th>\n",
       "      <td>CHEMBL73711</td>\n",
       "      <td>COc1ccc2c(c1)c(CCN1CCOCC1)c(C)n2C(=O)c1cccc(Cl...</td>\n",
       "      <td>Ki</td>\n",
       "      <td>12.000</td>\n",
       "      <td>nM</td>\n",
       "    </tr>\n",
       "    <tr>\n",
       "      <th>16936</th>\n",
       "      <td>CHEMBL2068805</td>\n",
       "      <td>CCCCOc1c(OC)ccc2cc(C(=O)NC3CCCCC3)c(=O)[nH]c12</td>\n",
       "      <td>Ki</td>\n",
       "      <td>9.600</td>\n",
       "      <td>nM</td>\n",
       "    </tr>\n",
       "    <tr>\n",
       "      <th>16938</th>\n",
       "      <td>CHEMBL5176915</td>\n",
       "      <td>O=C(c1cc(O)ccc1F)N1CCC(Cc2cccc(Oc3cc(C(F)(F)F)...</td>\n",
       "      <td>IC50</td>\n",
       "      <td>10000.000</td>\n",
       "      <td>nM</td>\n",
       "    </tr>\n",
       "    <tr>\n",
       "      <th>16940</th>\n",
       "      <td>CHEMBL4639128</td>\n",
       "      <td>COCc1nc2cnc3cc(-c4c(C)noc4C)c(OC[C@H]4CCNC4)cc...</td>\n",
       "      <td>EC50</td>\n",
       "      <td>100000.000</td>\n",
       "      <td>nM</td>\n",
       "    </tr>\n",
       "  </tbody>\n",
       "</table>\n",
       "<p>11705 rows × 5 columns</p>\n",
       "</div>"
      ]
     },
     "execution_count": 105,
     "metadata": {},
     "output_type": "execute_result"
    }
   ],
   "execution_count": 105
  },
  {
   "cell_type": "code",
   "id": "c4f15b20-593b-4370-8e3d-69f06e51f64d",
   "metadata": {
    "ExecuteTime": {
     "end_time": "2025-02-17T09:53:42.185964Z",
     "start_time": "2025-02-17T09:53:42.172176Z"
    }
   },
   "source": [
    "df['smiles'].duplicated().sum()"
   ],
   "outputs": [
    {
     "data": {
      "text/plain": [
       "np.int64(3342)"
      ]
     },
     "execution_count": 106,
     "metadata": {},
     "output_type": "execute_result"
    }
   ],
   "execution_count": 106
  },
  {
   "cell_type": "code",
   "id": "dc330e11-51fa-49ab-8e6d-6119890be532",
   "metadata": {
    "ExecuteTime": {
     "end_time": "2025-02-17T09:53:42.383317Z",
     "start_time": "2025-02-17T09:53:42.367995Z"
    }
   },
   "source": [
    "df.drop_duplicates(inplace=True, subset='smiles')"
   ],
   "outputs": [],
   "execution_count": 107
  },
  {
   "cell_type": "code",
   "id": "8e96ad8439b6219f",
   "metadata": {
    "ExecuteTime": {
     "end_time": "2025-02-17T09:53:42.573062Z",
     "start_time": "2025-02-17T09:53:42.560322Z"
    }
   },
   "source": [
    "df.loc[df['value_type'] == 'Log Ki', 'value'] = 10 ** (df['value'])\n",
    "# df.loc[df['value_type'] == 'Log Ki', 'value_type'] = 'Ki'\n"
   ],
   "outputs": [],
   "execution_count": 108
  },
  {
   "metadata": {
    "ExecuteTime": {
     "end_time": "2025-02-17T09:53:42.726025Z",
     "start_time": "2025-02-17T09:53:42.719711Z"
    }
   },
   "cell_type": "code",
   "source": "df = df[df['value'] <= 100]",
   "id": "89e194f060e08928",
   "outputs": [],
   "execution_count": 109
  },
  {
   "metadata": {
    "ExecuteTime": {
     "end_time": "2025-02-17T09:53:42.882616Z",
     "start_time": "2025-02-17T09:53:42.861136Z"
    }
   },
   "cell_type": "code",
   "source": "df[df['value_type'] == 'Log Ki']",
   "id": "171297752beeeee8",
   "outputs": [
    {
     "data": {
      "text/plain": [
       "                  id                                             smiles  \\\n",
       "74       CHEMBL41721  CCCCCCC(C)(C)c1cc(O)c2c(c1)OC(C)(C)C1CC=C(CO)C...   \n",
       "1142     CHEMBL74662      CC1=CCC2C(C1)c1c(O)cc(CCCCC(F)(F)F)cc1OC2(C)C   \n",
       "7548     CHEMBL75330            CC1=CCC2C(C1)c1c(O)cc(CCCCCF)cc1OC2(C)C   \n",
       "10652  CHEMBL2062131  CCCCCCC(C)(C)c1ccc([C@H]2C[C@@H](O)CC[C@@H]2CC...   \n",
       "\n",
       "      value_type      value units  \n",
       "74        Log Ki   0.218776    nM  \n",
       "1142      Log Ki  30.199517    nM  \n",
       "7548      Log Ki   8.709636    nM  \n",
       "10652     Log Ki  23.442288    nM  "
      ],
      "text/html": [
       "<div>\n",
       "<style scoped>\n",
       "    .dataframe tbody tr th:only-of-type {\n",
       "        vertical-align: middle;\n",
       "    }\n",
       "\n",
       "    .dataframe tbody tr th {\n",
       "        vertical-align: top;\n",
       "    }\n",
       "\n",
       "    .dataframe thead th {\n",
       "        text-align: right;\n",
       "    }\n",
       "</style>\n",
       "<table border=\"1\" class=\"dataframe\">\n",
       "  <thead>\n",
       "    <tr style=\"text-align: right;\">\n",
       "      <th></th>\n",
       "      <th>id</th>\n",
       "      <th>smiles</th>\n",
       "      <th>value_type</th>\n",
       "      <th>value</th>\n",
       "      <th>units</th>\n",
       "    </tr>\n",
       "  </thead>\n",
       "  <tbody>\n",
       "    <tr>\n",
       "      <th>74</th>\n",
       "      <td>CHEMBL41721</td>\n",
       "      <td>CCCCCCC(C)(C)c1cc(O)c2c(c1)OC(C)(C)C1CC=C(CO)C...</td>\n",
       "      <td>Log Ki</td>\n",
       "      <td>0.218776</td>\n",
       "      <td>nM</td>\n",
       "    </tr>\n",
       "    <tr>\n",
       "      <th>1142</th>\n",
       "      <td>CHEMBL74662</td>\n",
       "      <td>CC1=CCC2C(C1)c1c(O)cc(CCCCC(F)(F)F)cc1OC2(C)C</td>\n",
       "      <td>Log Ki</td>\n",
       "      <td>30.199517</td>\n",
       "      <td>nM</td>\n",
       "    </tr>\n",
       "    <tr>\n",
       "      <th>7548</th>\n",
       "      <td>CHEMBL75330</td>\n",
       "      <td>CC1=CCC2C(C1)c1c(O)cc(CCCCCF)cc1OC2(C)C</td>\n",
       "      <td>Log Ki</td>\n",
       "      <td>8.709636</td>\n",
       "      <td>nM</td>\n",
       "    </tr>\n",
       "    <tr>\n",
       "      <th>10652</th>\n",
       "      <td>CHEMBL2062131</td>\n",
       "      <td>CCCCCCC(C)(C)c1ccc([C@H]2C[C@@H](O)CC[C@@H]2CC...</td>\n",
       "      <td>Log Ki</td>\n",
       "      <td>23.442288</td>\n",
       "      <td>nM</td>\n",
       "    </tr>\n",
       "  </tbody>\n",
       "</table>\n",
       "</div>"
      ]
     },
     "execution_count": 110,
     "metadata": {},
     "output_type": "execute_result"
    }
   ],
   "execution_count": 110
  },
  {
   "cell_type": "code",
   "id": "36a69539-bba7-478d-a6b5-d1d1ff760744",
   "metadata": {
    "ExecuteTime": {
     "end_time": "2025-02-17T09:53:43.221881Z",
     "start_time": "2025-02-17T09:53:43.027816Z"
    }
   },
   "source": [
    "plt.boxplot(df['value'])"
   ],
   "outputs": [
    {
     "data": {
      "text/plain": [
       "{'whiskers': [<matplotlib.lines.Line2D at 0x134ed9bcb60>,\n",
       "  <matplotlib.lines.Line2D at 0x134ed9be0c0>],\n",
       " 'caps': [<matplotlib.lines.Line2D at 0x134ed9bdc40>,\n",
       "  <matplotlib.lines.Line2D at 0x134ed9bd910>],\n",
       " 'boxes': [<matplotlib.lines.Line2D at 0x134ed9db8c0>],\n",
       " 'medians': [<matplotlib.lines.Line2D at 0x134ed9bfdd0>],\n",
       " 'fliers': [<matplotlib.lines.Line2D at 0x134ed9bfe60>],\n",
       " 'means': []}"
      ]
     },
     "execution_count": 111,
     "metadata": {},
     "output_type": "execute_result"
    },
    {
     "data": {
      "text/plain": [
       "<Figure size 640x480 with 1 Axes>"
      ],
      "image/png": "[encoded data removed]"
     },
     "metadata": {},
     "output_type": "display_data"
    }
   ],
   "execution_count": 111
  },
  {
   "cell_type": "code",
   "id": "f2f0c7e6-9b1c-40e5-aa6e-f1f1c747a8f5",
   "metadata": {
    "ExecuteTime": {
     "end_time": "2025-02-17T09:53:43.713495Z",
     "start_time": "2025-02-17T09:53:43.384156Z"
    }
   },
   "source": [
    "df['value'].plot.density()"
   ],
   "outputs": [
    {
     "data": {
      "text/plain": [
       "<Axes: ylabel='Density'>"
      ]
     },
     "execution_count": 112,
     "metadata": {},
     "output_type": "execute_result"
    },
    {
     "data": {
      "text/plain": [
       "<Figure size 640x480 with 1 Axes>"
      ],
      "image/png": "[encoded data removed]"
     },
     "metadata": {},
     "output_type": "display_data"
    }
   ],
   "execution_count": 112
  },
  {
   "metadata": {
    "ExecuteTime": {
     "end_time": "2025-02-17T09:53:43.851901Z",
     "start_time": "2025-02-17T09:53:43.840458Z"
    }
   },
   "cell_type": "code",
   "source": "df['value_type'].unique()",
   "id": "693dab248110d5f4",
   "outputs": [
    {
     "data": {
      "text/plain": [
       "array(['EC50', 'Ki', 'Log Ki', 'IC50', 'Kieq', 'Activity', 'Kd', 'Kb'],\n",
       "      dtype=object)"
      ]
     },
     "execution_count": 113,
     "metadata": {},
     "output_type": "execute_result"
    }
   ],
   "execution_count": 113
  },
  {
   "metadata": {
    "ExecuteTime": {
     "end_time": "2025-02-17T09:53:44.054360Z",
     "start_time": "2025-02-17T09:53:44.021471Z"
    }
   },
   "cell_type": "code",
   "source": "df[df['value_type'] == 'Kb']",
   "id": "7e9cdb5d078ce1c0",
   "outputs": [
    {
     "data": {
      "text/plain": [
       "                 id                                     smiles value_type  \\\n",
       "3500  CHEMBL4637806  CCCCCCc1ccc(OCCCCCCCCCCC(=O)NCC2CC2)cc1OC         Kb   \n",
       "\n",
       "      value units  \n",
       "3500  30.61    nM  "
      ],
      "text/html": [
       "<div>\n",
       "<style scoped>\n",
       "    .dataframe tbody tr th:only-of-type {\n",
       "        vertical-align: middle;\n",
       "    }\n",
       "\n",
       "    .dataframe tbody tr th {\n",
       "        vertical-align: top;\n",
       "    }\n",
       "\n",
       "    .dataframe thead th {\n",
       "        text-align: right;\n",
       "    }\n",
       "</style>\n",
       "<table border=\"1\" class=\"dataframe\">\n",
       "  <thead>\n",
       "    <tr style=\"text-align: right;\">\n",
       "      <th></th>\n",
       "      <th>id</th>\n",
       "      <th>smiles</th>\n",
       "      <th>value_type</th>\n",
       "      <th>value</th>\n",
       "      <th>units</th>\n",
       "    </tr>\n",
       "  </thead>\n",
       "  <tbody>\n",
       "    <tr>\n",
       "      <th>3500</th>\n",
       "      <td>CHEMBL4637806</td>\n",
       "      <td>CCCCCCc1ccc(OCCCCCCCCCCC(=O)NCC2CC2)cc1OC</td>\n",
       "      <td>Kb</td>\n",
       "      <td>30.61</td>\n",
       "      <td>nM</td>\n",
       "    </tr>\n",
       "  </tbody>\n",
       "</table>\n",
       "</div>"
      ]
     },
     "execution_count": 114,
     "metadata": {},
     "output_type": "execute_result"
    }
   ],
   "execution_count": 114
  },
  {
   "cell_type": "code",
   "id": "36e38beb-619a-4d91-94e9-d2e90968d6ff",
   "metadata": {
    "ExecuteTime": {
     "end_time": "2025-02-17T09:53:44.170460Z",
     "start_time": "2025-02-17T09:53:44.137743Z"
    }
   },
   "source": [
    "df.to_csv(\"chembl253_final.csv\")"
   ],
   "outputs": [],
   "execution_count": 115
  },
  {
   "cell_type": "code",
   "id": "0c787816-bff3-482b-923c-826443a821fe",
   "metadata": {
    "ExecuteTime": {
     "end_time": "2025-02-17T09:53:44.550890Z",
     "start_time": "2025-02-17T09:53:44.244037Z"
    }
   },
   "source": [
    "data = pd.read_csv('chembl218.csv', delimiter=\";\")"
   ],
   "outputs": [
    {
     "name": "stderr",
     "output_type": "stream",
     "text": [
      "C:\\Users\\user\\AppData\\Local\\Temp\\ipykernel_9032\\4027638988.py:1: DtypeWarning: Columns (32,33) have mixed types. Specify dtype option on import or set low_memory=False.\n",
      "  data = pd.read_csv('chembl218.csv', delimiter=\";\")\n"
     ]
    }
   ],
   "execution_count": 116
  },
  {
   "cell_type": "code",
   "id": "a3c7ec97-a0cc-46d6-aa26-19fb0e3ee9ca",
   "metadata": {
    "ExecuteTime": {
     "end_time": "2025-02-17T09:53:44.674469Z",
     "start_time": "2025-02-17T09:53:44.646952Z"
    }
   },
   "source": [
    "data.head()"
   ],
   "outputs": [
    {
     "data": {
      "text/plain": [
       "  Molecule ChEMBL ID    Molecule Name  Molecule Max Phase  Molecular Weight  \\\n",
       "0      CHEMBL2218896         NABILONE                 4.0            372.55   \n",
       "1       CHEMBL570159              NaN                 NaN            612.61   \n",
       "2       CHEMBL156027              NaN                 NaN            474.37   \n",
       "3       CHEMBL345466              NaN                 NaN            520.96   \n",
       "4       CHEMBL158784  RAC-IBIPINABANT                 NaN            487.41   \n",
       "\n",
       "   #RO5 Violations  AlogP Compound Key  \\\n",
       "0              1.0   6.26            2   \n",
       "1              2.0   8.46           20   \n",
       "2              0.0   4.90           45   \n",
       "3              2.0   5.13           29   \n",
       "4              0.0   4.76           67   \n",
       "\n",
       "                                              Smiles Standard Type  \\\n",
       "0   CCCCCCC(C)(C)c1cc(O)c2c(c1)OC(C)(C)C1CCC(=O)CC21            Ki   \n",
       "1  CCc1c(C(=O)NCCCCNc2c3c(nc4ccccc24)CCCC3)nc(-c2...            Ki   \n",
       "2  O=C(NS(=O)(=O)c1ccc(Cl)cc1)N1CC(c2ccccc2)C(c2c...           pA2   \n",
       "3  C/N=C(\\NS(=O)(=O)c1ccc(C(F)(F)F)cc1)N1CC(c2ccc...            Kd   \n",
       "4  CN/C(=N\\S(=O)(=O)c1ccc(Cl)cc1)N1CC(c2ccccc2)C(...            Ki   \n",
       "\n",
       "  Standard Relation  ...     Target Type Document ChEMBL ID  Source ID  \\\n",
       "0               '='  ...  SINGLE PROTEIN      CHEMBL1828497          1   \n",
       "1               '='  ...  SINGLE PROTEIN      CHEMBL1156813          1   \n",
       "2               NaN  ...  SINGLE PROTEIN      CHEMBL1148395          1   \n",
       "3               '='  ...  SINGLE PROTEIN      CHEMBL1148395          1   \n",
       "4               '='  ...  SINGLE PROTEIN      CHEMBL1148395          1   \n",
       "\n",
       "      Source Description Document Journal Document Year  Cell ChEMBL ID  \\\n",
       "0  Scientific Literature   Eur J Med Chem        2011.0   CHEMBL3308072   \n",
       "1  Scientific Literature       J Med Chem        2010.0   CHEMBL3308072   \n",
       "2  Scientific Literature       J Med Chem        2004.0   CHEMBL3308072   \n",
       "3  Scientific Literature       J Med Chem        2004.0   CHEMBL3308072   \n",
       "4  Scientific Literature       J Med Chem        2004.0   CHEMBL3308072   \n",
       "\n",
       "   Properties  Action Type  Standard Text Value  \n",
       "0         NaN          NaN                  NaN  \n",
       "1         NaN          NaN                  NaN  \n",
       "2         NaN          NaN                  NaN  \n",
       "3         NaN          NaN                  NaN  \n",
       "4         NaN          NaN                  NaN  \n",
       "\n",
       "[5 rows x 47 columns]"
      ],
      "text/html": [
       "<div>\n",
       "<style scoped>\n",
       "    .dataframe tbody tr th:only-of-type {\n",
       "        vertical-align: middle;\n",
       "    }\n",
       "\n",
       "    .dataframe tbody tr th {\n",
       "        vertical-align: top;\n",
       "    }\n",
       "\n",
       "    .dataframe thead th {\n",
       "        text-align: right;\n",
       "    }\n",
       "</style>\n",
       "<table border=\"1\" class=\"dataframe\">\n",
       "  <thead>\n",
       "    <tr style=\"text-align: right;\">\n",
       "      <th></th>\n",
       "      <th>Molecule ChEMBL ID</th>\n",
       "      <th>Molecule Name</th>\n",
       "      <th>Molecule Max Phase</th>\n",
       "      <th>Molecular Weight</th>\n",
       "      <th>#RO5 Violations</th>\n",
       "      <th>AlogP</th>\n",
       "      <th>Compound Key</th>\n",
       "      <th>Smiles</th>\n",
       "      <th>Standard Type</th>\n",
       "      <th>Standard Relation</th>\n",
       "      <th>...</th>\n",
       "      <th>Target Type</th>\n",
       "      <th>Document ChEMBL ID</th>\n",
       "      <th>Source ID</th>\n",
       "      <th>Source Description</th>\n",
       "      <th>Document Journal</th>\n",
       "      <th>Document Year</th>\n",
       "      <th>Cell ChEMBL ID</th>\n",
       "      <th>Properties</th>\n",
       "      <th>Action Type</th>\n",
       "      <th>Standard Text Value</th>\n",
       "    </tr>\n",
       "  </thead>\n",
       "  <tbody>\n",
       "    <tr>\n",
       "      <th>0</th>\n",
       "      <td>CHEMBL2218896</td>\n",
       "      <td>NABILONE</td>\n",
       "      <td>4.0</td>\n",
       "      <td>372.55</td>\n",
       "      <td>1.0</td>\n",
       "      <td>6.26</td>\n",
       "      <td>2</td>\n",
       "      <td>CCCCCCC(C)(C)c1cc(O)c2c(c1)OC(C)(C)C1CCC(=O)CC21</td>\n",
       "      <td>Ki</td>\n",
       "      <td>'='</td>\n",
       "      <td>...</td>\n",
       "      <td>SINGLE PROTEIN</td>\n",
       "      <td>CHEMBL1828497</td>\n",
       "      <td>1</td>\n",
       "      <td>Scientific Literature</td>\n",
       "      <td>Eur J Med Chem</td>\n",
       "      <td>2011.0</td>\n",
       "      <td>CHEMBL3308072</td>\n",
       "      <td>NaN</td>\n",
       "      <td>NaN</td>\n",
       "      <td>NaN</td>\n",
       "    </tr>\n",
       "    <tr>\n",
       "      <th>1</th>\n",
       "      <td>CHEMBL570159</td>\n",
       "      <td>NaN</td>\n",
       "      <td>NaN</td>\n",
       "      <td>612.61</td>\n",
       "      <td>2.0</td>\n",
       "      <td>8.46</td>\n",
       "      <td>20</td>\n",
       "      <td>CCc1c(C(=O)NCCCCNc2c3c(nc4ccccc24)CCCC3)nc(-c2...</td>\n",
       "      <td>Ki</td>\n",
       "      <td>'='</td>\n",
       "      <td>...</td>\n",
       "      <td>SINGLE PROTEIN</td>\n",
       "      <td>CHEMBL1156813</td>\n",
       "      <td>1</td>\n",
       "      <td>Scientific Literature</td>\n",
       "      <td>J Med Chem</td>\n",
       "      <td>2010.0</td>\n",
       "      <td>CHEMBL3308072</td>\n",
       "      <td>NaN</td>\n",
       "      <td>NaN</td>\n",
       "      <td>NaN</td>\n",
       "    </tr>\n",
       "    <tr>\n",
       "      <th>2</th>\n",
       "      <td>CHEMBL156027</td>\n",
       "      <td>NaN</td>\n",
       "      <td>NaN</td>\n",
       "      <td>474.37</td>\n",
       "      <td>0.0</td>\n",
       "      <td>4.90</td>\n",
       "      <td>45</td>\n",
       "      <td>O=C(NS(=O)(=O)c1ccc(Cl)cc1)N1CC(c2ccccc2)C(c2c...</td>\n",
       "      <td>pA2</td>\n",
       "      <td>NaN</td>\n",
       "      <td>...</td>\n",
       "      <td>SINGLE PROTEIN</td>\n",
       "      <td>CHEMBL1148395</td>\n",
       "      <td>1</td>\n",
       "      <td>Scientific Literature</td>\n",
       "      <td>J Med Chem</td>\n",
       "      <td>2004.0</td>\n",
       "      <td>CHEMBL3308072</td>\n",
       "      <td>NaN</td>\n",
       "      <td>NaN</td>\n",
       "      <td>NaN</td>\n",
       "    </tr>\n",
       "    <tr>\n",
       "      <th>3</th>\n",
       "      <td>CHEMBL345466</td>\n",
       "      <td>NaN</td>\n",
       "      <td>NaN</td>\n",
       "      <td>520.96</td>\n",
       "      <td>2.0</td>\n",
       "      <td>5.13</td>\n",
       "      <td>29</td>\n",
       "      <td>C/N=C(\\NS(=O)(=O)c1ccc(C(F)(F)F)cc1)N1CC(c2ccc...</td>\n",
       "      <td>Kd</td>\n",
       "      <td>'='</td>\n",
       "      <td>...</td>\n",
       "      <td>SINGLE PROTEIN</td>\n",
       "      <td>CHEMBL1148395</td>\n",
       "      <td>1</td>\n",
       "      <td>Scientific Literature</td>\n",
       "      <td>J Med Chem</td>\n",
       "      <td>2004.0</td>\n",
       "      <td>CHEMBL3308072</td>\n",
       "      <td>NaN</td>\n",
       "      <td>NaN</td>\n",
       "      <td>NaN</td>\n",
       "    </tr>\n",
       "    <tr>\n",
       "      <th>4</th>\n",
       "      <td>CHEMBL158784</td>\n",
       "      <td>RAC-IBIPINABANT</td>\n",
       "      <td>NaN</td>\n",
       "      <td>487.41</td>\n",
       "      <td>0.0</td>\n",
       "      <td>4.76</td>\n",
       "      <td>67</td>\n",
       "      <td>CN/C(=N\\S(=O)(=O)c1ccc(Cl)cc1)N1CC(c2ccccc2)C(...</td>\n",
       "      <td>Ki</td>\n",
       "      <td>'='</td>\n",
       "      <td>...</td>\n",
       "      <td>SINGLE PROTEIN</td>\n",
       "      <td>CHEMBL1148395</td>\n",
       "      <td>1</td>\n",
       "      <td>Scientific Literature</td>\n",
       "      <td>J Med Chem</td>\n",
       "      <td>2004.0</td>\n",
       "      <td>CHEMBL3308072</td>\n",
       "      <td>NaN</td>\n",
       "      <td>NaN</td>\n",
       "      <td>NaN</td>\n",
       "    </tr>\n",
       "  </tbody>\n",
       "</table>\n",
       "<p>5 rows × 47 columns</p>\n",
       "</div>"
      ]
     },
     "execution_count": 117,
     "metadata": {},
     "output_type": "execute_result"
    }
   ],
   "execution_count": 117
  },
  {
   "cell_type": "code",
   "id": "29624838-2ecb-43a6-9deb-568cc557f170",
   "metadata": {
    "ExecuteTime": {
     "end_time": "2025-02-17T09:53:44.836391Z",
     "start_time": "2025-02-17T09:53:44.819425Z"
    }
   },
   "source": [
    "df = data[['Molecule ChEMBL ID', 'Smiles', 'Standard Type','Standard Value', 'Standard Units']].copy()\n",
    "df.rename(columns = {'Molecule ChEMBL ID':'id', 'Smiles': 'smiles', 'Standard Type': 'value_type', 'Standard Value' : 'value', 'Standard Units' : 'units'}, inplace=True)"
   ],
   "outputs": [],
   "execution_count": 118
  },
  {
   "cell_type": "code",
   "id": "eafdbe48-0144-4eb8-abd4-f916e44fefc8",
   "metadata": {
    "ExecuteTime": {
     "end_time": "2025-02-17T09:53:44.998923Z",
     "start_time": "2025-02-17T09:53:44.977516Z"
    }
   },
   "source": [
    "df.info()"
   ],
   "outputs": [
    {
     "name": "stdout",
     "output_type": "stream",
     "text": [
      "<class 'pandas.core.frame.DataFrame'>\n",
      "RangeIndex: 20913 entries, 0 to 20912\n",
      "Data columns (total 5 columns):\n",
      " #   Column      Non-Null Count  Dtype  \n",
      "---  ------      --------------  -----  \n",
      " 0   id          20913 non-null  object \n",
      " 1   smiles      20839 non-null  object \n",
      " 2   value_type  20913 non-null  object \n",
      " 3   value       17636 non-null  float64\n",
      " 4   units       17728 non-null  object \n",
      "dtypes: float64(1), object(4)\n",
      "memory usage: 817.0+ KB\n"
     ]
    }
   ],
   "execution_count": 119
  },
  {
   "cell_type": "code",
   "id": "3d3542b1-12ae-4671-8a4c-7f7483a4f36b",
   "metadata": {
    "ExecuteTime": {
     "end_time": "2025-02-17T09:53:45.312192Z",
     "start_time": "2025-02-17T09:53:45.300699Z"
    }
   },
   "source": [
    "df['units'].unique()"
   ],
   "outputs": [
    {
     "data": {
      "text/plain": [
       "array(['nM', nan, '%', 'uM', 'pmol', 'degrees C', 'kcal/mol', 'pmol/mg',\n",
       "       \"10'5/M/s\", 'hr', \"10'-4/s\", 'fmol/mg', \"10'-5/s\", '10^3nM',\n",
       "       \"10'-3/s\"], dtype=object)"
      ]
     },
     "execution_count": 120,
     "metadata": {},
     "output_type": "execute_result"
    }
   ],
   "execution_count": 120
  },
  {
   "cell_type": "code",
   "id": "a2a40759-1aac-47b7-9160-bcb268b9b3bb",
   "metadata": {
    "ExecuteTime": {
     "end_time": "2025-02-17T09:53:45.574129Z",
     "start_time": "2025-02-17T09:53:45.557980Z"
    }
   },
   "source": [
    "df.describe()"
   ],
   "outputs": [
    {
     "data": {
      "text/plain": [
       "              value\n",
       "count  1.763600e+04\n",
       "mean   8.145728e+03\n",
       "std    7.998992e+04\n",
       "min   -2.667000e+02\n",
       "25%    3.000000e+01\n",
       "50%    3.815000e+02\n",
       "75%    1.000000e+04\n",
       "max    1.000000e+07"
      ],
      "text/html": [
       "<div>\n",
       "<style scoped>\n",
       "    .dataframe tbody tr th:only-of-type {\n",
       "        vertical-align: middle;\n",
       "    }\n",
       "\n",
       "    .dataframe tbody tr th {\n",
       "        vertical-align: top;\n",
       "    }\n",
       "\n",
       "    .dataframe thead th {\n",
       "        text-align: right;\n",
       "    }\n",
       "</style>\n",
       "<table border=\"1\" class=\"dataframe\">\n",
       "  <thead>\n",
       "    <tr style=\"text-align: right;\">\n",
       "      <th></th>\n",
       "      <th>value</th>\n",
       "    </tr>\n",
       "  </thead>\n",
       "  <tbody>\n",
       "    <tr>\n",
       "      <th>count</th>\n",
       "      <td>1.763600e+04</td>\n",
       "    </tr>\n",
       "    <tr>\n",
       "      <th>mean</th>\n",
       "      <td>8.145728e+03</td>\n",
       "    </tr>\n",
       "    <tr>\n",
       "      <th>std</th>\n",
       "      <td>7.998992e+04</td>\n",
       "    </tr>\n",
       "    <tr>\n",
       "      <th>min</th>\n",
       "      <td>-2.667000e+02</td>\n",
       "    </tr>\n",
       "    <tr>\n",
       "      <th>25%</th>\n",
       "      <td>3.000000e+01</td>\n",
       "    </tr>\n",
       "    <tr>\n",
       "      <th>50%</th>\n",
       "      <td>3.815000e+02</td>\n",
       "    </tr>\n",
       "    <tr>\n",
       "      <th>75%</th>\n",
       "      <td>1.000000e+04</td>\n",
       "    </tr>\n",
       "    <tr>\n",
       "      <th>max</th>\n",
       "      <td>1.000000e+07</td>\n",
       "    </tr>\n",
       "  </tbody>\n",
       "</table>\n",
       "</div>"
      ]
     },
     "execution_count": 121,
     "metadata": {},
     "output_type": "execute_result"
    }
   ],
   "execution_count": 121
  },
  {
   "cell_type": "code",
   "id": "c4ac5c1d-2752-48d9-a43e-189c51a08e67",
   "metadata": {
    "ExecuteTime": {
     "end_time": "2025-02-17T09:53:46.026679Z",
     "start_time": "2025-02-17T09:53:46.012429Z"
    }
   },
   "source": [
    "filter = ['fmol/mg', '%', 'kcal/mol', 'degrees C', \"10'-4/s\", 'hr', '10^3nM', \"10'5/M/s\", \"10'-3/s\", \"10'-5/s\", 'pmol/mg', np.nan]\n",
    "df = df[~df['units'].isin(filter)]"
   ],
   "outputs": [],
   "execution_count": 122
  },
  {
   "cell_type": "code",
   "id": "c5db8a0d-78a2-4a53-971f-a005cf1a709c",
   "metadata": {
    "ExecuteTime": {
     "end_time": "2025-02-17T09:53:46.134798Z",
     "start_time": "2025-02-17T09:53:46.123637Z"
    }
   },
   "source": [
    "df['units'].unique()"
   ],
   "outputs": [
    {
     "data": {
      "text/plain": [
       "array(['nM', 'uM', 'pmol'], dtype=object)"
      ]
     },
     "execution_count": 123,
     "metadata": {},
     "output_type": "execute_result"
    }
   ],
   "execution_count": 123
  },
  {
   "cell_type": "code",
   "id": "9beaea64-0826-4928-b0b3-08f52a38d782",
   "metadata": {
    "ExecuteTime": {
     "end_time": "2025-02-17T09:53:46.561046Z",
     "start_time": "2025-02-17T09:53:46.547171Z"
    }
   },
   "source": [
    "df.dropna(inplace=True)"
   ],
   "outputs": [],
   "execution_count": 124
  },
  {
   "cell_type": "code",
   "id": "b5a01173-7fa0-4c9f-8be3-5d30a94c979b",
   "metadata": {
    "ExecuteTime": {
     "end_time": "2025-02-17T09:53:46.652161Z",
     "start_time": "2025-02-17T09:53:46.635472Z"
    }
   },
   "source": [
    "df['smiles'] = df['smiles'].apply(preprocess)"
   ],
   "outputs": [],
   "execution_count": 125
  },
  {
   "cell_type": "code",
   "id": "f01b47de-17fb-4948-8152-1b7b33da81f0",
   "metadata": {
    "ExecuteTime": {
     "end_time": "2025-02-17T09:53:47.038897Z",
     "start_time": "2025-02-17T09:53:47.020887Z"
    }
   },
   "source": [
    "df['smiles'].duplicated().sum()"
   ],
   "outputs": [
    {
     "data": {
      "text/plain": [
       "np.int64(4905)"
      ]
     },
     "execution_count": 126,
     "metadata": {},
     "output_type": "execute_result"
    }
   ],
   "execution_count": 126
  },
  {
   "cell_type": "code",
   "id": "365822cc-880b-4e91-bd18-6d3ca7b42fcf",
   "metadata": {
    "ExecuteTime": {
     "end_time": "2025-02-17T09:53:47.490369Z",
     "start_time": "2025-02-17T09:53:47.478040Z"
    }
   },
   "source": [
    "df.drop_duplicates(inplace=True, subset='smiles')"
   ],
   "outputs": [],
   "execution_count": 127
  },
  {
   "cell_type": "code",
   "id": "67e1f1ac-c78d-48f1-8aa3-9fecffc50ece",
   "metadata": {
    "ExecuteTime": {
     "end_time": "2025-02-17T09:53:48.052512Z",
     "start_time": "2025-02-17T09:53:48.031110Z"
    }
   },
   "source": [
    "df.describe()"
   ],
   "outputs": [
    {
     "data": {
      "text/plain": [
       "              value\n",
       "count  9.320000e+03\n",
       "mean   1.005330e+04\n",
       "std    1.087317e+05\n",
       "min   -1.900000e-01\n",
       "25%    9.500000e+01\n",
       "50%    2.100000e+03\n",
       "75%    1.000000e+04\n",
       "max    1.000000e+07"
      ],
      "text/html": [
       "<div>\n",
       "<style scoped>\n",
       "    .dataframe tbody tr th:only-of-type {\n",
       "        vertical-align: middle;\n",
       "    }\n",
       "\n",
       "    .dataframe tbody tr th {\n",
       "        vertical-align: top;\n",
       "    }\n",
       "\n",
       "    .dataframe thead th {\n",
       "        text-align: right;\n",
       "    }\n",
       "</style>\n",
       "<table border=\"1\" class=\"dataframe\">\n",
       "  <thead>\n",
       "    <tr style=\"text-align: right;\">\n",
       "      <th></th>\n",
       "      <th>value</th>\n",
       "    </tr>\n",
       "  </thead>\n",
       "  <tbody>\n",
       "    <tr>\n",
       "      <th>count</th>\n",
       "      <td>9.320000e+03</td>\n",
       "    </tr>\n",
       "    <tr>\n",
       "      <th>mean</th>\n",
       "      <td>1.005330e+04</td>\n",
       "    </tr>\n",
       "    <tr>\n",
       "      <th>std</th>\n",
       "      <td>1.087317e+05</td>\n",
       "    </tr>\n",
       "    <tr>\n",
       "      <th>min</th>\n",
       "      <td>-1.900000e-01</td>\n",
       "    </tr>\n",
       "    <tr>\n",
       "      <th>25%</th>\n",
       "      <td>9.500000e+01</td>\n",
       "    </tr>\n",
       "    <tr>\n",
       "      <th>50%</th>\n",
       "      <td>2.100000e+03</td>\n",
       "    </tr>\n",
       "    <tr>\n",
       "      <th>75%</th>\n",
       "      <td>1.000000e+04</td>\n",
       "    </tr>\n",
       "    <tr>\n",
       "      <th>max</th>\n",
       "      <td>1.000000e+07</td>\n",
       "    </tr>\n",
       "  </tbody>\n",
       "</table>\n",
       "</div>"
      ]
     },
     "execution_count": 128,
     "metadata": {},
     "output_type": "execute_result"
    }
   ],
   "execution_count": 128
  },
  {
   "metadata": {
    "ExecuteTime": {
     "end_time": "2025-02-17T09:53:49.233449Z",
     "start_time": "2025-02-17T09:53:49.217844Z"
    }
   },
   "cell_type": "code",
   "source": "df[df['units'] == 'pmol']",
   "id": "7c0e992f8ffd0841",
   "outputs": [
    {
     "data": {
      "text/plain": [
       "                 id                                             smiles  \\\n",
       "1247   CHEMBL404272  CN/C(=N/S(=O)(=O)c1ccc(Cl)cc1)C1CN(c2ccccc2)C(...   \n",
       "1248   CHEMBL404701  CN/C(=N/S(=O)(=O)c1ccc(Cl)cc1)c1cn(-c2ccc(Cl)c...   \n",
       "5295   CHEMBL404700  CN/C(=N/S(=O)(=O)c1ccc(Cl)cc1)c1nc(-c2ccccc2)c...   \n",
       "5798   CHEMBL447695  Cc1c(NS(=O)(=O)c2nn(-c3ccc(Cl)cc3Cl)c(-c3ccc(C...   \n",
       "8397   CHEMBL402773  CN/C(=N/S(=O)(=O)c1ccc(Cl)cc1)c1nc(-c2ccc(Cl)c...   \n",
       "10063  CHEMBL272949  CN/C(=N/S(=O)(=O)c1ccc(Cl)cc1)C1CN(c2ccc(Cl)cc...   \n",
       "11765  CHEMBL479940  Cc1c(S(=O)(=O)NN2CCCCC2)nn(-c2ccc(Cl)cc2Cl)c1-...   \n",
       "\n",
       "      value_type  value units  \n",
       "1247    Activity   0.89  pmol  \n",
       "1248    Activity   0.55  pmol  \n",
       "5295    Activity   0.60  pmol  \n",
       "5798    Activity   0.09  pmol  \n",
       "8397    Activity   1.30  pmol  \n",
       "10063   Activity   0.94  pmol  \n",
       "11765   Activity   0.12  pmol  "
      ],
      "text/html": [
       "<div>\n",
       "<style scoped>\n",
       "    .dataframe tbody tr th:only-of-type {\n",
       "        vertical-align: middle;\n",
       "    }\n",
       "\n",
       "    .dataframe tbody tr th {\n",
       "        vertical-align: top;\n",
       "    }\n",
       "\n",
       "    .dataframe thead th {\n",
       "        text-align: right;\n",
       "    }\n",
       "</style>\n",
       "<table border=\"1\" class=\"dataframe\">\n",
       "  <thead>\n",
       "    <tr style=\"text-align: right;\">\n",
       "      <th></th>\n",
       "      <th>id</th>\n",
       "      <th>smiles</th>\n",
       "      <th>value_type</th>\n",
       "      <th>value</th>\n",
       "      <th>units</th>\n",
       "    </tr>\n",
       "  </thead>\n",
       "  <tbody>\n",
       "    <tr>\n",
       "      <th>1247</th>\n",
       "      <td>CHEMBL404272</td>\n",
       "      <td>CN/C(=N/S(=O)(=O)c1ccc(Cl)cc1)C1CN(c2ccccc2)C(...</td>\n",
       "      <td>Activity</td>\n",
       "      <td>0.89</td>\n",
       "      <td>pmol</td>\n",
       "    </tr>\n",
       "    <tr>\n",
       "      <th>1248</th>\n",
       "      <td>CHEMBL404701</td>\n",
       "      <td>CN/C(=N/S(=O)(=O)c1ccc(Cl)cc1)c1cn(-c2ccc(Cl)c...</td>\n",
       "      <td>Activity</td>\n",
       "      <td>0.55</td>\n",
       "      <td>pmol</td>\n",
       "    </tr>\n",
       "    <tr>\n",
       "      <th>5295</th>\n",
       "      <td>CHEMBL404700</td>\n",
       "      <td>CN/C(=N/S(=O)(=O)c1ccc(Cl)cc1)c1nc(-c2ccccc2)c...</td>\n",
       "      <td>Activity</td>\n",
       "      <td>0.60</td>\n",
       "      <td>pmol</td>\n",
       "    </tr>\n",
       "    <tr>\n",
       "      <th>5798</th>\n",
       "      <td>CHEMBL447695</td>\n",
       "      <td>Cc1c(NS(=O)(=O)c2nn(-c3ccc(Cl)cc3Cl)c(-c3ccc(C...</td>\n",
       "      <td>Activity</td>\n",
       "      <td>0.09</td>\n",
       "      <td>pmol</td>\n",
       "    </tr>\n",
       "    <tr>\n",
       "      <th>8397</th>\n",
       "      <td>CHEMBL402773</td>\n",
       "      <td>CN/C(=N/S(=O)(=O)c1ccc(Cl)cc1)c1nc(-c2ccc(Cl)c...</td>\n",
       "      <td>Activity</td>\n",
       "      <td>1.30</td>\n",
       "      <td>pmol</td>\n",
       "    </tr>\n",
       "    <tr>\n",
       "      <th>10063</th>\n",
       "      <td>CHEMBL272949</td>\n",
       "      <td>CN/C(=N/S(=O)(=O)c1ccc(Cl)cc1)C1CN(c2ccc(Cl)cc...</td>\n",
       "      <td>Activity</td>\n",
       "      <td>0.94</td>\n",
       "      <td>pmol</td>\n",
       "    </tr>\n",
       "    <tr>\n",
       "      <th>11765</th>\n",
       "      <td>CHEMBL479940</td>\n",
       "      <td>Cc1c(S(=O)(=O)NN2CCCCC2)nn(-c2ccc(Cl)cc2Cl)c1-...</td>\n",
       "      <td>Activity</td>\n",
       "      <td>0.12</td>\n",
       "      <td>pmol</td>\n",
       "    </tr>\n",
       "  </tbody>\n",
       "</table>\n",
       "</div>"
      ]
     },
     "execution_count": 129,
     "metadata": {},
     "output_type": "execute_result"
    }
   ],
   "execution_count": 129
  },
  {
   "cell_type": "code",
   "id": "5c8afa87-983a-4e12-a57a-5095e42e99c4",
   "metadata": {
    "ExecuteTime": {
     "end_time": "2025-02-17T09:53:50.269911Z",
     "start_time": "2025-02-17T09:53:50.137283Z"
    }
   },
   "source": [
    "conversion_factors = {\n",
    "    'nM': 1,        \n",
    "    'uM': 1000,      \n",
    "    'pmol': 0.001,     \n",
    "}\n",
    "\n",
    "df['value'] = df.apply(lambda row: row['value'] * conversion_factors.get(row['units']), axis=1)"
   ],
   "outputs": [],
   "execution_count": 130
  },
  {
   "cell_type": "code",
   "id": "59e6e5409e40d9d9",
   "metadata": {
    "ExecuteTime": {
     "end_time": "2025-02-17T09:53:50.911643Z",
     "start_time": "2025-02-17T09:53:50.898799Z"
    }
   },
   "source": [
    "df.loc[df['value_type'] == 'Log Ki', 'value'] = 10 ** (df['value'])\n",
    "# df.loc[df['value_type'] == 'Log Ki', 'value_type'] = 'Ki'"
   ],
   "outputs": [],
   "execution_count": 131
  },
  {
   "metadata": {
    "ExecuteTime": {
     "end_time": "2025-02-17T09:53:51.329955Z",
     "start_time": "2025-02-17T09:53:51.316437Z"
    }
   },
   "cell_type": "code",
   "source": "df = df[df['value'] <= 100]",
   "id": "14bf0b9bb1f3b71",
   "outputs": [],
   "execution_count": 132
  },
  {
   "metadata": {
    "ExecuteTime": {
     "end_time": "2025-02-17T09:53:51.486206Z",
     "start_time": "2025-02-17T09:53:51.463913Z"
    }
   },
   "cell_type": "code",
   "source": "df[df['value_type'] == 'Log Ki']",
   "id": "aef42cd3f784b185",
   "outputs": [
    {
     "data": {
      "text/plain": [
       "                  id                                             smiles  \\\n",
       "60      CHEMBL559612  CCCCCCC(C)(C)c1ccc([C@@H]2C[C@H](O)CC[C@H]2CCC...   \n",
       "76       CHEMBL71810                  CCCCCn1ccc(C(=O)c2cccc3ccccc23)c1   \n",
       "776      CHEMBL15848           CCCCC/C=C\\C/C=C\\C/C=C\\C/C=C\\CCCC(=O)NCCO   \n",
       "1462    CHEMBL309042        CCCCC/C=C\\C/C=C\\C/C=C\\C/C=C\\CCC(C)C(=O)NCCF   \n",
       "3672     CHEMBL41721  CCCCCCC(C)(C)c1cc(O)c2c(c1)OC(C)(C)C1CC=C(CO)C...   \n",
       "5452     CHEMBL75330            CC1=CCC2C(C1)c1c(O)cc(CCCCCF)cc1OC2(C)C   \n",
       "5966     CHEMBL74909           CCCCC/C=C\\C/C=C\\C/C=C\\C/C=C\\CCCC(=O)NCCF   \n",
       "9312     CHEMBL74662      CC1=CCC2C(C1)c1c(O)cc(CCCCC(F)(F)F)cc1OC2(C)C   \n",
       "10976  CHEMBL2062131  CCCCCCC(C)(C)c1ccc([C@H]2C[C@@H](O)CC[C@@H]2CC...   \n",
       "\n",
       "      value_type      value units  \n",
       "60        Log Ki   0.645654    nM  \n",
       "76        Log Ki  87.096359    nM  \n",
       "776       Log Ki  89.125094    nM  \n",
       "1462      Log Ki   5.754399    nM  \n",
       "3672      Log Ki   0.724436    nM  \n",
       "5452      Log Ki  57.543994    nM  \n",
       "5966      Log Ki   8.511380    nM  \n",
       "9312      Log Ki  19.952623    nM  \n",
       "10976     Log Ki  61.659500    nM  "
      ],
      "text/html": [
       "<div>\n",
       "<style scoped>\n",
       "    .dataframe tbody tr th:only-of-type {\n",
       "        vertical-align: middle;\n",
       "    }\n",
       "\n",
       "    .dataframe tbody tr th {\n",
       "        vertical-align: top;\n",
       "    }\n",
       "\n",
       "    .dataframe thead th {\n",
       "        text-align: right;\n",
       "    }\n",
       "</style>\n",
       "<table border=\"1\" class=\"dataframe\">\n",
       "  <thead>\n",
       "    <tr style=\"text-align: right;\">\n",
       "      <th></th>\n",
       "      <th>id</th>\n",
       "      <th>smiles</th>\n",
       "      <th>value_type</th>\n",
       "      <th>value</th>\n",
       "      <th>units</th>\n",
       "    </tr>\n",
       "  </thead>\n",
       "  <tbody>\n",
       "    <tr>\n",
       "      <th>60</th>\n",
       "      <td>CHEMBL559612</td>\n",
       "      <td>CCCCCCC(C)(C)c1ccc([C@@H]2C[C@H](O)CC[C@H]2CCC...</td>\n",
       "      <td>Log Ki</td>\n",
       "      <td>0.645654</td>\n",
       "      <td>nM</td>\n",
       "    </tr>\n",
       "    <tr>\n",
       "      <th>76</th>\n",
       "      <td>CHEMBL71810</td>\n",
       "      <td>CCCCCn1ccc(C(=O)c2cccc3ccccc23)c1</td>\n",
       "      <td>Log Ki</td>\n",
       "      <td>87.096359</td>\n",
       "      <td>nM</td>\n",
       "    </tr>\n",
       "    <tr>\n",
       "      <th>776</th>\n",
       "      <td>CHEMBL15848</td>\n",
       "      <td>CCCCC/C=C\\C/C=C\\C/C=C\\C/C=C\\CCCC(=O)NCCO</td>\n",
       "      <td>Log Ki</td>\n",
       "      <td>89.125094</td>\n",
       "      <td>nM</td>\n",
       "    </tr>\n",
       "    <tr>\n",
       "      <th>1462</th>\n",
       "      <td>CHEMBL309042</td>\n",
       "      <td>CCCCC/C=C\\C/C=C\\C/C=C\\C/C=C\\CCC(C)C(=O)NCCF</td>\n",
       "      <td>Log Ki</td>\n",
       "      <td>5.754399</td>\n",
       "      <td>nM</td>\n",
       "    </tr>\n",
       "    <tr>\n",
       "      <th>3672</th>\n",
       "      <td>CHEMBL41721</td>\n",
       "      <td>CCCCCCC(C)(C)c1cc(O)c2c(c1)OC(C)(C)C1CC=C(CO)C...</td>\n",
       "      <td>Log Ki</td>\n",
       "      <td>0.724436</td>\n",
       "      <td>nM</td>\n",
       "    </tr>\n",
       "    <tr>\n",
       "      <th>5452</th>\n",
       "      <td>CHEMBL75330</td>\n",
       "      <td>CC1=CCC2C(C1)c1c(O)cc(CCCCCF)cc1OC2(C)C</td>\n",
       "      <td>Log Ki</td>\n",
       "      <td>57.543994</td>\n",
       "      <td>nM</td>\n",
       "    </tr>\n",
       "    <tr>\n",
       "      <th>5966</th>\n",
       "      <td>CHEMBL74909</td>\n",
       "      <td>CCCCC/C=C\\C/C=C\\C/C=C\\C/C=C\\CCCC(=O)NCCF</td>\n",
       "      <td>Log Ki</td>\n",
       "      <td>8.511380</td>\n",
       "      <td>nM</td>\n",
       "    </tr>\n",
       "    <tr>\n",
       "      <th>9312</th>\n",
       "      <td>CHEMBL74662</td>\n",
       "      <td>CC1=CCC2C(C1)c1c(O)cc(CCCCC(F)(F)F)cc1OC2(C)C</td>\n",
       "      <td>Log Ki</td>\n",
       "      <td>19.952623</td>\n",
       "      <td>nM</td>\n",
       "    </tr>\n",
       "    <tr>\n",
       "      <th>10976</th>\n",
       "      <td>CHEMBL2062131</td>\n",
       "      <td>CCCCCCC(C)(C)c1ccc([C@H]2C[C@@H](O)CC[C@@H]2CC...</td>\n",
       "      <td>Log Ki</td>\n",
       "      <td>61.659500</td>\n",
       "      <td>nM</td>\n",
       "    </tr>\n",
       "  </tbody>\n",
       "</table>\n",
       "</div>"
      ]
     },
     "execution_count": 133,
     "metadata": {},
     "output_type": "execute_result"
    }
   ],
   "execution_count": 133
  },
  {
   "cell_type": "code",
   "id": "86e93e5e-b4b8-4240-90ef-343ec70ad1a0",
   "metadata": {
    "ExecuteTime": {
     "end_time": "2025-02-17T09:53:51.711925Z",
     "start_time": "2025-02-17T09:53:51.700840Z"
    }
   },
   "source": "df['value_type'].unique()",
   "outputs": [
    {
     "data": {
      "text/plain": [
       "array(['Ki', 'Kd', 'IC50', 'EC50', 'Log Ki', 'Ke', 'Ke(app)', 'Kb',\n",
       "       'Activity', 'AC50', 'Kieq', 'K'], dtype=object)"
      ]
     },
     "execution_count": 134,
     "metadata": {},
     "output_type": "execute_result"
    }
   ],
   "execution_count": 134
  },
  {
   "metadata": {
    "ExecuteTime": {
     "end_time": "2025-02-17T09:53:52.204976Z",
     "start_time": "2025-02-17T09:53:52.183926Z"
    }
   },
   "cell_type": "code",
   "source": "df[df['value_type'] == 'K']",
   "id": "9132e255081c04a8",
   "outputs": [
    {
     "data": {
      "text/plain": [
       "                  id                                             smiles  \\\n",
       "20213  CHEMBL5267903  Cc1c(C(=O)NN2CCCCC2)nn(-c2ccc(Cl)cc2Cl)c1-c1cc...   \n",
       "20214  CHEMBL5268104  Cc1c(C(=O)NC23CC4CC(CC(C4)C2)C3)nn(CCCCSC#N)c1...   \n",
       "\n",
       "      value_type  value units  \n",
       "20213          K   5.10    nM  \n",
       "20214          K   5.76    nM  "
      ],
      "text/html": [
       "<div>\n",
       "<style scoped>\n",
       "    .dataframe tbody tr th:only-of-type {\n",
       "        vertical-align: middle;\n",
       "    }\n",
       "\n",
       "    .dataframe tbody tr th {\n",
       "        vertical-align: top;\n",
       "    }\n",
       "\n",
       "    .dataframe thead th {\n",
       "        text-align: right;\n",
       "    }\n",
       "</style>\n",
       "<table border=\"1\" class=\"dataframe\">\n",
       "  <thead>\n",
       "    <tr style=\"text-align: right;\">\n",
       "      <th></th>\n",
       "      <th>id</th>\n",
       "      <th>smiles</th>\n",
       "      <th>value_type</th>\n",
       "      <th>value</th>\n",
       "      <th>units</th>\n",
       "    </tr>\n",
       "  </thead>\n",
       "  <tbody>\n",
       "    <tr>\n",
       "      <th>20213</th>\n",
       "      <td>CHEMBL5267903</td>\n",
       "      <td>Cc1c(C(=O)NN2CCCCC2)nn(-c2ccc(Cl)cc2Cl)c1-c1cc...</td>\n",
       "      <td>K</td>\n",
       "      <td>5.10</td>\n",
       "      <td>nM</td>\n",
       "    </tr>\n",
       "    <tr>\n",
       "      <th>20214</th>\n",
       "      <td>CHEMBL5268104</td>\n",
       "      <td>Cc1c(C(=O)NC23CC4CC(CC(C4)C2)C3)nn(CCCCSC#N)c1...</td>\n",
       "      <td>K</td>\n",
       "      <td>5.76</td>\n",
       "      <td>nM</td>\n",
       "    </tr>\n",
       "  </tbody>\n",
       "</table>\n",
       "</div>"
      ]
     },
     "execution_count": 135,
     "metadata": {},
     "output_type": "execute_result"
    }
   ],
   "execution_count": 135
  },
  {
   "cell_type": "code",
   "id": "6b7efda1-f66d-4b8b-bd3e-cdc832bf572d",
   "metadata": {
    "ExecuteTime": {
     "end_time": "2025-02-17T09:53:53.305879Z",
     "start_time": "2025-02-17T09:53:53.280569Z"
    }
   },
   "source": [
    "df.to_csv(\"chembl218_final.csv\")"
   ],
   "outputs": [],
   "execution_count": 136
  },
  {
   "cell_type": "code",
   "id": "1acb6c8c-3013-468d-81b2-01a632cfe149",
   "metadata": {
    "ExecuteTime": {
     "end_time": "2025-02-17T09:39:37.053041Z",
     "start_time": "2025-02-17T09:39:37.035295Z"
    }
   },
   "source": [],
   "outputs": [],
   "execution_count": null
  },
  {
   "metadata": {},
   "cell_type": "code",
   "outputs": [],
   "execution_count": null,
   "source": "",
   "id": "a462d766a03951f2"
  }
 ],
 "metadata": {
  "kernelspec": {
   "display_name": "Python 3 (ipykernel)",
   "language": "python",
   "name": "python3"
  },
  "language_info": {
   "codemirror_mode": {
    "name": "ipython",
    "version": 3
   },
   "file_extension": ".py",
   "mimetype": "text/x-python",
   "name": "python",
   "nbconvert_exporter": "python",
   "pygments_lexer": "ipython3",
   "version": "3.12.2"
  }
 },
 "nbformat": 4,
 "nbformat_minor": 5
}
