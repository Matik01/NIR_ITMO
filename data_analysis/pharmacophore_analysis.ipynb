{
 "cells": [
  {
   "cell_type": "code",
   "execution_count": 2,
   "id": "0b84a5b8-2937-4a1d-8490-7185d653694f",
   "metadata": {},
   "outputs": [],
   "source": [
    "import pandas as pd\n",
    "import os\n",
    "import seaborn as sns"
   ]
  },
  {
   "cell_type": "code",
   "execution_count": 3,
   "id": "476409ff-d930-4134-b642-0372c7cc7ef7",
   "metadata": {},
   "outputs": [],
   "source": [
    "dir_cnr1 = \"CNR1/pharmacophore_search/\"\n",
    "dir_cnr2 = \"CNR2/pharmacophore_search/\"\n",
    "df_cnr1 = []\n",
    "df_cnr2 = []\n",
    "for dirs, subdirs, files in os.walk(dir_cnr1):\n",
    "    for file in files:\n",
    "        if \".smi\" in file:\n",
    "            df = pd.read_csv(dir_cnr1 + file, sep='\\t', names=[\"smiles\", \"id\"])\n",
    "            new_column = {'receptor': [file.split(sep=\"_\")[0] for i in range(0,len(df['smiles']))]}\n",
    "            df = df.assign(**new_column)\n",
    "            df_cnr1.append(df)\n",
    "            \n",
    "for dirs, subdirs, files in os.walk(dir_cnr2):\n",
    "    for file in files:\n",
    "        if \".smi\" in file:\n",
    "            df = pd.read_csv(dir_cnr2 + file, sep='\\t', names=[\"smiles\", \"id\"])\n",
    "            new_column = {'receptor': [file.split(sep=\"_\")[0] for i in range(0,len(df['smiles']))]}\n",
    "            df = df.assign(**new_column)\n",
    "            df_cnr2.append(df)"
   ]
  },
  {
   "cell_type": "code",
   "execution_count": 4,
   "id": "d17a615a-ce54-477a-8280-a00b34670541",
   "metadata": {},
   "outputs": [],
   "source": [
    "data_1 = pd.concat(df_cnr1, ignore_index=True)\n",
    "data_2 = pd.concat(df_cnr2, ignore_index=True)"
   ]
  },
  {
   "cell_type": "code",
   "execution_count": 5,
   "id": "f410612c-0b38-4bca-8fd2-899c235b5ba8",
   "metadata": {},
   "outputs": [],
   "source": [
    "data_1.drop_duplicates(inplace=True, subset='id')"
   ]
  },
  {
   "cell_type": "code",
   "execution_count": 6,
   "id": "4732cd6a-dcdc-40dd-9970-1b2be38dcf97",
   "metadata": {},
   "outputs": [],
   "source": [
    "data_2.drop_duplicates(inplace=True, subset='id')"
   ]
  },
  {
   "cell_type": "code",
   "execution_count": 7,
   "id": "406ed1ab-ca80-4fe5-8e6a-91513c1e5436",
   "metadata": {},
   "outputs": [
    {
     "data": {
      "text/html": [
       "<div>\n",
       "<style scoped>\n",
       "    .dataframe tbody tr th:only-of-type {\n",
       "        vertical-align: middle;\n",
       "    }\n",
       "\n",
       "    .dataframe tbody tr th {\n",
       "        vertical-align: top;\n",
       "    }\n",
       "\n",
       "    .dataframe thead th {\n",
       "        text-align: right;\n",
       "    }\n",
       "</style>\n",
       "<table border=\"1\" class=\"dataframe\">\n",
       "  <thead>\n",
       "    <tr style=\"text-align: right;\">\n",
       "      <th></th>\n",
       "      <th>smiles</th>\n",
       "      <th>id</th>\n",
       "      <th>receptor</th>\n",
       "    </tr>\n",
       "  </thead>\n",
       "  <tbody>\n",
       "    <tr>\n",
       "      <th>count</th>\n",
       "      <td>316</td>\n",
       "      <td>316</td>\n",
       "      <td>316</td>\n",
       "    </tr>\n",
       "    <tr>\n",
       "      <th>unique</th>\n",
       "      <td>314</td>\n",
       "      <td>316</td>\n",
       "      <td>6</td>\n",
       "    </tr>\n",
       "    <tr>\n",
       "      <th>top</th>\n",
       "      <td>Cc1c(C(=O)N[C@@H]2CCCC[C@H]2O)nc(c2c(cc(cc2)Cl...</td>\n",
       "      <td>CHEMBL4463214_5XRA</td>\n",
       "      <td>5tgz</td>\n",
       "    </tr>\n",
       "    <tr>\n",
       "      <th>freq</th>\n",
       "      <td>2</td>\n",
       "      <td>1</td>\n",
       "      <td>163</td>\n",
       "    </tr>\n",
       "  </tbody>\n",
       "</table>\n",
       "</div>"
      ],
      "text/plain": [
       "                                                   smiles                  id  \\\n",
       "count                                                 316                 316   \n",
       "unique                                                314                 316   \n",
       "top     Cc1c(C(=O)N[C@@H]2CCCC[C@H]2O)nc(c2c(cc(cc2)Cl...  CHEMBL4463214_5XRA   \n",
       "freq                                                    2                   1   \n",
       "\n",
       "       receptor  \n",
       "count       316  \n",
       "unique        6  \n",
       "top        5tgz  \n",
       "freq        163  "
      ]
     },
     "execution_count": 7,
     "metadata": {},
     "output_type": "execute_result"
    }
   ],
   "source": [
    "data_1.describe()"
   ]
  },
  {
   "cell_type": "code",
   "execution_count": 8,
   "id": "47982da5-e8d7-4b46-9b2f-863f989da4d4",
   "metadata": {},
   "outputs": [
    {
     "data": {
      "text/plain": [
       "'Cc1c(C(=O)N[C@@H]2CCCC[C@H]2O)nc(c2c(cc(cc2)Cl)Cl)n1c1ccc(cc1)OS(=O)(=O)CCC(F)(F)F'"
      ]
     },
     "execution_count": 8,
     "metadata": {},
     "output_type": "execute_result"
    }
   ],
   "source": [
    "data_1[data_1['smiles'].duplicated()].iloc[0]['smiles']"
   ]
  },
  {
   "cell_type": "code",
   "execution_count": 9,
   "id": "5215d6f1-6eff-4008-8078-4dab392ec3f3",
   "metadata": {},
   "outputs": [
    {
     "data": {
      "text/plain": [
       "'CCOC(=O)N1CCC[C@H](C1)NC(=O)c1c(c(c2ccc(cc2)Cl)n(c2ccc(cc2Cl)Cl)n1)C'"
      ]
     },
     "execution_count": 9,
     "metadata": {},
     "output_type": "execute_result"
    }
   ],
   "source": [
    "data_1[data_1['smiles'].duplicated()].iloc[1]['smiles']"
   ]
  },
  {
   "cell_type": "code",
   "execution_count": 10,
   "id": "ff34c405-6744-4d86-86ea-0706be179d5e",
   "metadata": {},
   "outputs": [
    {
     "data": {
      "text/html": [
       "<div>\n",
       "<style scoped>\n",
       "    .dataframe tbody tr th:only-of-type {\n",
       "        vertical-align: middle;\n",
       "    }\n",
       "\n",
       "    .dataframe tbody tr th {\n",
       "        vertical-align: top;\n",
       "    }\n",
       "\n",
       "    .dataframe thead th {\n",
       "        text-align: right;\n",
       "    }\n",
       "</style>\n",
       "<table border=\"1\" class=\"dataframe\">\n",
       "  <thead>\n",
       "    <tr style=\"text-align: right;\">\n",
       "      <th></th>\n",
       "      <th>smiles</th>\n",
       "      <th>id</th>\n",
       "      <th>receptor</th>\n",
       "    </tr>\n",
       "  </thead>\n",
       "  <tbody>\n",
       "    <tr>\n",
       "      <th>count</th>\n",
       "      <td>802</td>\n",
       "      <td>802</td>\n",
       "      <td>802</td>\n",
       "    </tr>\n",
       "    <tr>\n",
       "      <th>unique</th>\n",
       "      <td>791</td>\n",
       "      <td>802</td>\n",
       "      <td>7</td>\n",
       "    </tr>\n",
       "    <tr>\n",
       "      <th>top</th>\n",
       "      <td>c1(cnc2c(c1)cc(c(=O)n2Cc1ccc(cc1)F)C(=O)N[C@@H...</td>\n",
       "      <td>CHEMBL4783221_5ZTY</td>\n",
       "      <td>6pt0</td>\n",
       "    </tr>\n",
       "    <tr>\n",
       "      <th>freq</th>\n",
       "      <td>3</td>\n",
       "      <td>1</td>\n",
       "      <td>404</td>\n",
       "    </tr>\n",
       "  </tbody>\n",
       "</table>\n",
       "</div>"
      ],
      "text/plain": [
       "                                                   smiles                  id  \\\n",
       "count                                                 802                 802   \n",
       "unique                                                791                 802   \n",
       "top     c1(cnc2c(c1)cc(c(=O)n2Cc1ccc(cc1)F)C(=O)N[C@@H...  CHEMBL4783221_5ZTY   \n",
       "freq                                                    3                   1   \n",
       "\n",
       "       receptor  \n",
       "count       802  \n",
       "unique        7  \n",
       "top        6pt0  \n",
       "freq        404  "
      ]
     },
     "execution_count": 10,
     "metadata": {},
     "output_type": "execute_result"
    }
   ],
   "source": [
    "data_2.describe()"
   ]
  },
  {
   "cell_type": "code",
   "execution_count": 38,
   "id": "80ccb471-2058-4518-9827-e332ce03d744",
   "metadata": {},
   "outputs": [],
   "source": [
    "data_1['id'] = data_1['id'].str.split('_').str[0]\n",
    "data_2['id'] = data_2['id'].str.split('_').str[0]"
   ]
  },
  {
   "cell_type": "code",
   "execution_count": 39,
   "id": "5101e01d-e89c-491c-b13f-07773d0512f7",
   "metadata": {},
   "outputs": [
    {
     "data": {
      "text/plain": [
       "Text(0.5, 1.0, 'CNR1')"
      ]
     },
     "execution_count": 39,
     "metadata": {},
     "output_type": "execute_result"
    },
    {
     "data": {
      "image/png": "[encoded data removed]",
      "text/plain": [
       "<Figure size 640x480 with 1 Axes>"
      ]
     },
     "metadata": {},
     "output_type": "display_data"
    }
   ],
   "source": [
    "sns.histplot(data_1['receptor']).set_title(\"CNR1\")"
   ]
  },
  {
   "cell_type": "code",
   "execution_count": 40,
   "id": "87bc1508-9dce-4cdf-8178-1bf43ac0994c",
   "metadata": {},
   "outputs": [
    {
     "data": {
      "text/plain": [
       "Text(0.5, 1.0, 'CNR2')"
      ]
     },
     "execution_count": 40,
     "metadata": {},
     "output_type": "execute_result"
    },
    {
     "data": {
      "image/png": "[encoded data removed]",
      "text/plain": [
       "<Figure size 640x480 with 1 Axes>"
      ]
     },
     "metadata": {},
     "output_type": "display_data"
    }
   ],
   "source": [
    "sns.histplot(data_2['receptor']).set_title(\"CNR2\")"
   ]
  },
  {
   "cell_type": "code",
   "execution_count": 58,
   "id": "6c06b1cc-0b55-4015-8005-a4488b60ac42",
   "metadata": {},
   "outputs": [],
   "source": [
    "def write_output(data: pd.DataFrame, rec_type: str):\n",
    "    uniq = data['receptor'].unique()\n",
    "    for receptor in uniq:\n",
    "        selected_df = data[data['receptor'] == receptor]\n",
    "        selected_df.iloc[::, 0:2].to_csv(f'{receptor}_pharmacophore_{rec_type}.smi', sep='\\t', index=False, header=False)"
   ]
  },
  {
   "cell_type": "code",
   "execution_count": 65,
   "id": "d68961a4-77f2-4b01-ba49-970af25585bd",
   "metadata": {},
   "outputs": [],
   "source": [
    "write_output(data_1, \"cnr1\")"
   ]
  },
  {
   "cell_type": "code",
   "execution_count": 66,
   "id": "925fdf92-cc64-4905-92fa-dbda14e44276",
   "metadata": {},
   "outputs": [],
   "source": [
    "write_output(data_2, \"cnr2\")"
   ]
  },
  {
   "cell_type": "code",
   "execution_count": null,
   "id": "7f6f1454-2fff-453b-a5e6-6878e7c6bbd0",
   "metadata": {},
   "outputs": [],
   "source": []
  }
 ],
 "metadata": {
  "kernelspec": {
   "display_name": "ml",
   "language": "python",
   "name": "ml"
  },
  "language_info": {
   "codemirror_mode": {
    "name": "ipython",
    "version": 3
   },
   "file_extension": ".py",
   "mimetype": "text/x-python",
   "name": "python",
   "nbconvert_exporter": "python",
   "pygments_lexer": "ipython3",
   "version": "3.10.15"
  }
 },
 "nbformat": 4,
 "nbformat_minor": 5
}
